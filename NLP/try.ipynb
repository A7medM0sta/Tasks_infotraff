{
  "cells": [
    {
      "cell_type": "code",
      "execution_count": 1,
      "id": "initial_id",
      "metadata": {
        "colab": {
          "base_uri": "https://localhost:8080/"
        },
        "collapsed": true,
        "id": "initial_id",
        "outputId": "6741b2be-8860-4b81-e69a-4334e5df514c"
      },
      "outputs": [
        {
          "name": "stdout",
          "output_type": "stream",
          "text": [
            "Cloning into 'Tasks_infotraff'...\n",
            "remote: Enumerating objects: 79, done.\u001b[K\n",
            "remote: Counting objects: 100% (12/12), done.\u001b[K\n",
            "remote: Compressing objects: 100% (11/11), done.\u001b[K\n",
            "remote: Total 79 (delta 3), reused 1 (delta 1), pack-reused 67\u001b[K\n",
            "Receiving objects: 100% (79/79), 291.25 KiB | 4.94 MiB/s, done.\n",
            "Resolving deltas: 100% (22/22), done.\n"
          ]
        }
      ],
      "source": [
        "!git clone https://github.com/A7medM0sta/Tasks_infotraff.git"
      ]
    },
    {
      "cell_type": "code",
      "execution_count": 2,
      "id": "39224d39d92d1240",
      "metadata": {
        "ExecuteTime": {
          "end_time": "2024-08-06T21:55:55.149311Z",
          "start_time": "2024-08-06T21:55:52.465626Z"
        },
        "colab": {
          "base_uri": "https://localhost:8080/"
        },
        "id": "39224d39d92d1240",
        "outputId": "937ee635-1013-4574-ea8d-312311c07d32"
      },
      "outputs": [
        {
          "name": "stdout",
          "output_type": "stream",
          "text": [
            "Requirement already satisfied: transformers in /usr/local/lib/python3.10/dist-packages (4.42.4)\n",
            "Requirement already satisfied: pandas in /usr/local/lib/python3.10/dist-packages (2.1.4)\n",
            "Requirement already satisfied: filelock in /usr/local/lib/python3.10/dist-packages (from transformers) (3.15.4)\n",
            "Requirement already satisfied: huggingface-hub<1.0,>=0.23.2 in /usr/local/lib/python3.10/dist-packages (from transformers) (0.23.5)\n",
            "Requirement already satisfied: numpy<2.0,>=1.17 in /usr/local/lib/python3.10/dist-packages (from transformers) (1.26.4)\n",
            "Requirement already satisfied: packaging>=20.0 in /usr/local/lib/python3.10/dist-packages (from transformers) (24.1)\n",
            "Requirement already satisfied: pyyaml>=5.1 in /usr/local/lib/python3.10/dist-packages (from transformers) (6.0.1)\n",
            "Requirement already satisfied: regex!=2019.12.17 in /usr/local/lib/python3.10/dist-packages (from transformers) (2024.5.15)\n",
            "Requirement already satisfied: requests in /usr/local/lib/python3.10/dist-packages (from transformers) (2.31.0)\n",
            "Requirement already satisfied: safetensors>=0.4.1 in /usr/local/lib/python3.10/dist-packages (from transformers) (0.4.3)\n",
            "Requirement already satisfied: tokenizers<0.20,>=0.19 in /usr/local/lib/python3.10/dist-packages (from transformers) (0.19.1)\n",
            "Requirement already satisfied: tqdm>=4.27 in /usr/local/lib/python3.10/dist-packages (from transformers) (4.66.4)\n",
            "Requirement already satisfied: python-dateutil>=2.8.2 in /usr/local/lib/python3.10/dist-packages (from pandas) (2.8.2)\n",
            "Requirement already satisfied: pytz>=2020.1 in /usr/local/lib/python3.10/dist-packages (from pandas) (2024.1)\n",
            "Requirement already satisfied: tzdata>=2022.1 in /usr/local/lib/python3.10/dist-packages (from pandas) (2024.1)\n",
            "Requirement already satisfied: fsspec>=2023.5.0 in /usr/local/lib/python3.10/dist-packages (from huggingface-hub<1.0,>=0.23.2->transformers) (2024.6.1)\n",
            "Requirement already satisfied: typing-extensions>=3.7.4.3 in /usr/local/lib/python3.10/dist-packages (from huggingface-hub<1.0,>=0.23.2->transformers) (4.12.2)\n",
            "Requirement already satisfied: six>=1.5 in /usr/local/lib/python3.10/dist-packages (from python-dateutil>=2.8.2->pandas) (1.16.0)\n",
            "Requirement already satisfied: charset-normalizer<4,>=2 in /usr/local/lib/python3.10/dist-packages (from requests->transformers) (3.3.2)\n",
            "Requirement already satisfied: idna<4,>=2.5 in /usr/local/lib/python3.10/dist-packages (from requests->transformers) (3.7)\n",
            "Requirement already satisfied: urllib3<3,>=1.21.1 in /usr/local/lib/python3.10/dist-packages (from requests->transformers) (2.0.7)\n",
            "Requirement already satisfied: certifi>=2017.4.17 in /usr/local/lib/python3.10/dist-packages (from requests->transformers) (2024.7.4)\n"
          ]
        }
      ],
      "source": [
        "!pip install transformers pandas"
      ]
    },
    {
      "cell_type": "code",
      "execution_count": 3,
      "id": "cc923a6213318fe5",
      "metadata": {
        "ExecuteTime": {
          "end_time": "2024-08-07T06:42:54.358490Z",
          "start_time": "2024-08-07T06:42:53.821847Z"
        },
        "id": "cc923a6213318fe5"
      },
      "outputs": [],
      "source": [
        "import pandas as pd\n",
        "\n",
        "class DataLoader:\n",
        "    def __init__(self, file_path):\n",
        "        self.file_path = file_path\n",
        "        self.data = None\n",
        "\n",
        "    def load_data(self):\n",
        "        self.data = pd.read_excel(self.file_path)\n",
        "        # print(\"Data loaded successfully.\")\n",
        "\n",
        "    def get_data(self):\n",
        "        return self.data"
      ]
    },
    {
      "cell_type": "code",
      "execution_count": 4,
      "id": "d2d59e27dd15f615",
      "metadata": {
        "ExecuteTime": {
          "end_time": "2024-08-07T07:05:22.025525Z",
          "start_time": "2024-08-07T07:05:22.011520Z"
        },
        "id": "d2d59e27dd15f615"
      },
      "outputs": [],
      "source": [
        "import json\n",
        "from transformers import pipeline\n",
        "import pandas as pd\n",
        "\n",
        "class QueryProcessor:\n",
        "    def __init__(self, intents_file):\n",
        "        self.data = None\n",
        "        self.model = pipeline(\"zero-shot-classification\", model=\"facebook/bart-large-mnli\")\n",
        "        self.intents = self.load_intents(intents_file)\n",
        "\n",
        "    def load_intents(self, intents_file):\n",
        "        with open(intents_file, 'r') as file:\n",
        "            data = json.load(file)\n",
        "        return {intent['name']: intent for intent in data['intents']}\n",
        "\n",
        "    def set_data(self, data):\n",
        "        self.data = data\n",
        "\n",
        "    def process_query(self, query):\n",
        "        # Identify intent\n",
        "        result = self.model(query, list(self.intents.keys()))\n",
        "        intent_name = result['labels'][0]\n",
        "        intent = self.intents[intent_name]\n",
        "\n",
        "        if intent_name == \"most common visitor type\":\n",
        "            return self.most_common_visitor_type()\n",
        "\n",
        "        elif intent_name == \"most visitors in a minute\":\n",
        "            return self.most_visitors_in_minute()\n",
        "\n",
        "        elif intent_name == \"visitor count with single attribute\":\n",
        "            return self.visitor_count_with_single_attribute(query)\n",
        "\n",
        "        elif \"peak time\" in query.lower():\n",
        "            return self.visitors_during_peak_time(query)\n",
        "\n",
        "        else:\n",
        "            return \"Sorry, I didn't understand your query.\"\n",
        "\n",
        "    def most_common_visitor_type(self):\n",
        "        visitor_types = ['Is Male', 'Is Female', 'Is Hijab', 'Is Child', 'Is Niqab', 'Has Bag']\n",
        "        most_common_type = self.data[visitor_types].sum().idxmax()\n",
        "        occurrences = self.data[most_common_type].sum()\n",
        "        return f\"The most common visitor type is '{most_common_type}' with {occurrences} occurrences.\"\n",
        "\n",
        "    def most_visitors_in_minute(self):\n",
        "        self.data['minute'] = self.data['Time'].dt.floor('T')\n",
        "        peak_time = self.data['minute'].value_counts().idxmax()\n",
        "        visitors_at_peak = self.data['minute'].value_counts().max()\n",
        "        return f\"The minute with the most visitors is {peak_time} with {visitors_at_peak} visitors.\"\n",
        "\n",
        "    def visitor_count_with_single_attribute(self, query):\n",
        "        attributes = {\n",
        "            \"hijab\": \"Is Hijab\",\n",
        "            \"female\": \"Is Female\",\n",
        "            \"male\": \"Is Male\",\n",
        "            \"child\": \"Is Child\",\n",
        "            \"niqab\": \"Is Niqab\",\n",
        "            \"bag\": \"Has Bag\",\n",
        "            \"woman\": \"Is Female\",\n",
        "        }\n",
        "        for key, value in attributes.items():\n",
        "            if key in query.lower() or key + 's' in query.lower():\n",
        "                count = self.data[self.data[value] == 1].shape[0]\n",
        "                return f\"The number of '{key}' visitors is {count}.\"\n",
        "        return \"Sorry, I couldn't identify the specific attribute.\"\n",
        "\n",
        "    def visitors_during_peak_time(self, query):\n",
        "        self.data['minute'] = self.data['Time'].dt.floor('T')\n",
        "        peak_time = self.data['minute'].value_counts().idxmax()\n",
        "        attribute = None\n",
        "        if \"female\" in query.lower() or \"woman\" in query.lower():\n",
        "            attribute = \"Is Female\"\n",
        "        elif \"male\" in query.lower():\n",
        "            attribute = \"Is Male\"\n",
        "        elif \"hijab\" in query.lower():\n",
        "            attribute = \"Is Hijab\"\n",
        "        elif \"child\" in query.lower():\n",
        "            attribute = \"Is Child\"\n",
        "        elif \"niqab\" in query.lower():\n",
        "            attribute = \"Is Niqab\"\n",
        "        elif \"bag\" in query.lower():\n",
        "            attribute = \"Has Bag\"\n",
        "\n",
        "        if attribute:\n",
        "            count = self.data[(self.data['minute'] == peak_time) & (self.data[attribute] == 1)].shape[0]\n",
        "            return f\"The number of visitors with '{attribute}' during peak time ({peak_time}) is {count}.\"\n",
        "        else:\n",
        "            return f\"The minute with the most visitors is {peak_time} with {self.data['minute'].value_counts().max()} visitors.\""
      ]
    },
    {
      "cell_type": "code",
      "execution_count": 5,
      "id": "f5f004cde7e80403",
      "metadata": {
        "ExecuteTime": {
          "end_time": "2024-08-07T07:05:25.062056Z",
          "start_time": "2024-08-07T07:05:25.058088Z"
        },
        "id": "f5f004cde7e80403"
      },
      "outputs": [],
      "source": [
        "from transformers import pipeline\n",
        "\n",
        "class LLM:\n",
        "    def __init__(self):\n",
        "        self.generator = pipeline('text2text-generation', model='facebook/bart-large')\n",
        "    def ask_question(self, query):\n",
        "        return self.generator(query)[0]['generated_text']"
      ]
    },
    {
      "cell_type": "code",
      "execution_count": 6,
      "id": "ce7d1040f817633a",
      "metadata": {
        "ExecuteTime": {
          "end_time": "2024-08-07T07:05:25.782649Z",
          "start_time": "2024-08-07T07:05:25.776863Z"
        },
        "id": "ce7d1040f817633a"
      },
      "outputs": [],
      "source": [
        "class MainApplication:\n",
        "    def __init__(self, data_loader, query_processor, llm):\n",
        "        self.data_loader = data_loader\n",
        "        self.query_processor = query_processor\n",
        "        self.llm = llm\n",
        "\n",
        "    def run_query(self, query):\n",
        "        # Load data once when running the query\n",
        "        self.data_loader.load_data()\n",
        "        data = self.data_loader.get_data()\n",
        "\n",
        "        # Ensure the data is loaded correctly\n",
        "        if data is None:\n",
        "            raise ValueError(\"Data could not be loaded. Please check the file path and format.\")\n",
        "\n",
        "        self.query_processor.set_data(data)  # Pass the loaded data to the query processor\n",
        "        response = self.query_processor.process_query(query)\n",
        "        return response"
      ]
    },
    {
      "cell_type": "code",
      "execution_count": 9,
      "id": "cc254443488dfeee",
      "metadata": {
        "ExecuteTime": {
          "end_time": "2024-08-07T07:33:12.542700Z",
          "start_time": "2024-08-07T07:23:42.233010Z"
        },
        "colab": {
          "base_uri": "https://localhost:8080/"
        },
        "id": "cc254443488dfeee",
        "outputId": "a07d218b-ac7d-4a55-d9ef-e08859a43476"
      },
      "outputs": [
        {
          "name": "stdout",
          "output_type": "stream",
          "text": [
            "The minute with the most visitors is 2024-07-17 15:12:00 with 5 visitors.\n",
            "The number of visitors with 'Is Male' during peak time (2024-07-17 15:12:00) is 0.\n",
            "The number of visitors with 'Is Child' during peak time (2024-07-17 15:12:00) is 0.\n"
          ]
        }
      ],
      "source": [
        "# Load and process data\n",
        "data_loader = DataLoader(file_path='/content/Tasks_infotraff/NLP/Intern NLP Dataset.xlsx')\n",
        "query_processor = QueryProcessor('/content/Tasks_infotraff/NLP/intents.json')\n",
        "\n",
        "llm = LLM()\n",
        "\n",
        "# Instantiate the main application\n",
        "app = MainApplication(data_loader, query_processor, llm)\n",
        "\"\"\"Cifar10 dataset preprocessing and specifications.\"\"\"\n",
        "\n",
        "from __future__ import absolute_import\n",
        "from __future__ import division\n",
        "from __future__ import print_function\n",
        "\n",
        "import os\n",
        "import tarfile\n",
        "import numpy as np\n",
        "from six.moves import cPickle\n",
        "from six.moves import urllib\n",
        "import tensorflow as tf\n",
        "\n",
        "REMOTE_URL = \"https://www.cs.toronto.edu/~kriz/cifar-10-python.tar.gz\"\n",
        "LOCAL_DIR = os.path.join(\"data/cifar10/\")\n",
        "ARCHIVE_NAME = \"cifar-10-python.tar.gz\"\n",
        "DATA_DIR = \"cifar-10-batches-py/\"\n",
        "TRAIN_BATCHES = [\"data_batch_%d\" % (i + 1) for i in range(5)]\n",
        "TEST_BATCHES = [\"test_batch\"]\n",
        "\n",
        "IMAGE_SIZE = 32\n",
        "NUM_CLASSES = 10\n",
        "\n",
        "def get_params():\n",
        "  \"\"\"Return dataset parameters.\"\"\"\n",
        "  return {\n",
        "    \"image_size\": IMAGE_SIZE,\n",
        "    \"num_classes\": NUM_CLASSES,\n",
        "  }\n",
        "\n",
        "def prepare():\n",
        "  \"\"\"Download the cifar dataset.\"\"\"\n",
        "  if not os.path.exists(LOCAL_DIR):\n",
        "    os.makedirs(LOCAL_DIR)\n",
        "  if not os.path.exists(LOCAL_DIR + ARCHIVE_NAME):\n",
        "    print(\"Downloading...\")\n",
        "    urllib.request.urlretrieve(REMOTE_URL, LOCAL_DIR + ARCHIVE_NAME)\n",
        "  if not os.path.exists(LOCAL_DIR + DATA_DIR):\n",
        "    print(\"Extracting files...\")\n",
        "    tar = tarfile.open(LOCAL_DIR + ARCHIVE_NAME)\n",
        "    tar.extractall(LOCAL_DIR)\n",
        "    tar.close()\n",
        "\n",
        "def read(split):\n",
        "  \"\"\"Create an instance of the dataset object.\"\"\"\n",
        "  \"\"\"An iterator that reads and returns images and labels from cifar.\"\"\"\n",
        "  batches = {\n",
        "    tf.estimator.ModeKeys.TRAIN: TRAIN_BATCHES,\n",
        "    tf.estimator.ModeKeys.EVAL: TEST_BATCHES\n",
        "  }[split]\n",
        "\n",
        "  all_images = []\n",
        "  all_labels = []\n",
        "\n",
        "  for batch in batches:\n",
        "    with open(\"%s%s%s\" % (LOCAL_DIR, DATA_DIR, batch), \"rb\") as fo:\n",
        "      dict = cPickle.load(fo)\n",
        "      images = np.array(dict[\"data\"])\n",
        "      labels = np.array(dict[\"labels\"])\n",
        "\n",
        "      num = images.shape[0]\n",
        "      images = np.reshape(images, [num, 3, IMAGE_SIZE, IMAGE_SIZE])\n",
        "      images = np.transpose(images, [0, 2, 3, 1])\n",
        "      print(\"Loaded %d examples.\" % num)\n",
        "\n",
        "      all_images.append(images)\n",
        "      all_labels.append(labels)\n",
        "\n",
        "  all_images = np.concatenate(all_images)\n",
        "  all_labels = np.concatenate(all_labels)\n",
        "\n",
        "  return tf.contrib.data.Dataset.from_tensor_slices((all_images, all_labels))\n",
        "\n",
        "def parse(image, label):\n",
        "  \"\"\"Parse input record to features and labels.\"\"\"\n",
        "  image = tf.to_float(image) / 255.0\n",
        "  image = tf.reshape(image, [IMAGE_SIZE, IMAGE_SIZE, 3])\n",
        "  return {\"image\": image}, {\"label\": label}\n",
        "\n",
        "# Example queries\n",
        "queries = [\n",
        "  #   \"Who is my most common visitor ?\",\n",
        "  #   \"What time did I get most visits ?\",\n",
        "  #   \"How many hijab visited me ?\",\n",
        "  #  'How many females visited me ?',\n",
        "    \"How many Famele visited me in my peak time ?\",\n",
        "     \"How many Male visited me in my peak time ?\",\n",
        "  \"How many Childern visited me in my peak time ?\"\n",
        "]\n",
        "\n",
        "# Process and print the responses\n",
        "for query in queries:\n",
        "    response = app.run_query(query)\n",
        "    print(response)"
      ]
    },
    {
      "cell_type": "code",
      "execution_count": null,
      "id": "fec45613a95e8fcc",
      "metadata": {
        "id": "fec45613a95e8fcc"
      },
      "outputs": [],
      "source": [
        "# Please enter your query in natural language:\n",
        "# Who is my most common visitor ?\n",
        "# Intent: Most Common Visitor Type\n",
        "# The most common visitor type is 'Is Female' with 52 occurrences.\n",
        "\n",
        "# Please enter your query in natural language:\n",
        "# What time did I get most visits ?\n",
        "# Intent: Most Visitors in a Minute\n",
        "# The minute with the most visitors is 2024-07-17 15:12:00 with 5 visitors.\n",
        "\n",
        "# Please enter your query in natural language:\n",
        "# How many hijab visited me ?\n",
        "# Intent: Visitor Count with Single Attribute\n",
        "# The number of the specific visitors is 32.\n",
        "\n",
        "# Please enter your query in natural language:\n",
        "# How many females visited me ?\n",
        "# Intent:Visitor Count with Single Attribute\n",
        "# The number of the specific visitors is 52.\n",
        "\n",
        "# Please enter your query in natural language:\n",
        "# How many woman visited me in my peak time ?\n",
        "# Intent: Most Visitors in a Minute\n",
        "# The minute with the most visitors is 2024-07-17 15:12:00 with 5 visitors.\n",
        "\n",
        "# Please enter your query in natural language:\n",
        "# Break Most Visitors in a Minute\n",
        "# The minute with the most visitors is 2024-07-17 15:12:00 with 5 visitors."
      ]
    },
    {
      "cell_type": "code",
      "execution_count": null,
      "id": "cdc8e3b91d7c0e16",
      "metadata": {
        "id": "cdc8e3b91d7c0e16"
      },
      "outputs": [],
      "source": []
    }
  ],
  "metadata": {
    "colab": {
      "provenance": []
    },
    "kernelspec": {
      "display_name": "Python 3",
      "language": "python",
      "name": "python3"
    },
    "language_info": {
      "codemirror_mode": {
        "name": "ipython",
        "version": 2
      },
      "file_extension": ".py",
      "mimetype": "text/x-python",
      "name": "python",
      "nbconvert_exporter": "python",
      "pygments_lexer": "ipython2",
      "version": "2.7.6"
    }
  },
  "nbformat": 4,
  "nbformat_minor": 5
}
