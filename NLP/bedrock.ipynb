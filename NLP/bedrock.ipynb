{
 "cells": [
  {
   "cell_type": "code",
   "execution_count": 2,
   "metadata": {},
   "outputs": [],
   "source": [
    "from langchain.agents.agent_types import AgentType\n",
    "from langchain_experimental.agents.agent_toolkits import create_csv_agent\n",
    "from langchain.llms.bedrock import Bedrock\n",
    "import boto3"
   ]
  },
  {
   "cell_type": "code",
   "execution_count": 3,
   "metadata": {},
   "outputs": [
    {
     "name": "stderr",
     "output_type": "stream",
     "text": [
      "/Users/ahmedmostafa/miniconda3/envs/torch/lib/python3.9/site-packages/langchain_core/_api/deprecation.py:139: LangChainDeprecationWarning: The class `BedrockChat` was deprecated in LangChain 0.0.34 and will be removed in 0.3. An updated version of the class exists in the langchain-aws package and should be used instead. To use it run `pip install -U langchain-aws` and import as `from langchain_aws import ChatBedrock`.\n",
      "  warn_deprecated(\n"
     ]
    }
   ],
   "source": [
    "from langchain_community.chat_models import BedrockChat\n",
    "llm = BedrockChat(\n",
    "    model_id=\"anthropic.claude-3-sonnet-20240229-v1:0\",\n",
    "    client=boto3.client(service_name=\"bedrock-runtime\", region_name=\"us-east-1\"),\n",
    "    model_kwargs={\"temperature\": 0.0},\n",
    ")"
   ]
  },
  {
   "cell_type": "code",
   "execution_count": 4,
   "metadata": {},
   "outputs": [
    {
     "ename": "ValueError",
     "evalue": "This agent relies on access to a python repl tool which can execute arbitrary code. This can be dangerous and requires a specially sandboxed environment to be safely used. Please read the security notice in the doc-string of this function. You must opt-in to use this functionality by setting allow_dangerous_code=True.For general security guidelines, please see: https://python.langchain.com/v0.2/docs/security/",
     "output_type": "error",
     "traceback": [
      "\u001b[0;31m---------------------------------------------------------------------------\u001b[0m",
      "\u001b[0;31mValueError\u001b[0m                                Traceback (most recent call last)",
      "\u001b[1;32m/Users/ahmedmostafa/Downloads/Tasks_infotraff-1/NLP/bedrock.ipynb Cell 3\u001b[0m line \u001b[0;36m3\n\u001b[1;32m      <a href='vscode-notebook-cell:/Users/ahmedmostafa/Downloads/Tasks_infotraff-1/NLP/bedrock.ipynb#W2sZmlsZQ%3D%3D?line=0'>1</a>\u001b[0m \u001b[39m# allow_dangerous_code = True\u001b[39;00m\n\u001b[0;32m----> <a href='vscode-notebook-cell:/Users/ahmedmostafa/Downloads/Tasks_infotraff-1/NLP/bedrock.ipynb#W2sZmlsZQ%3D%3D?line=2'>3</a>\u001b[0m agent \u001b[39m=\u001b[39m create_csv_agent(\n\u001b[1;32m      <a href='vscode-notebook-cell:/Users/ahmedmostafa/Downloads/Tasks_infotraff-1/NLP/bedrock.ipynb#W2sZmlsZQ%3D%3D?line=3'>4</a>\u001b[0m     llm,\n\u001b[1;32m      <a href='vscode-notebook-cell:/Users/ahmedmostafa/Downloads/Tasks_infotraff-1/NLP/bedrock.ipynb#W2sZmlsZQ%3D%3D?line=4'>5</a>\u001b[0m     \u001b[39m\"\u001b[39;49m\u001b[39mData.csv\u001b[39;49m\u001b[39m\"\u001b[39;49m,\n\u001b[1;32m      <a href='vscode-notebook-cell:/Users/ahmedmostafa/Downloads/Tasks_infotraff-1/NLP/bedrock.ipynb#W2sZmlsZQ%3D%3D?line=5'>6</a>\u001b[0m     verbose\u001b[39m=\u001b[39;49m\u001b[39mTrue\u001b[39;49;00m,\n\u001b[1;32m      <a href='vscode-notebook-cell:/Users/ahmedmostafa/Downloads/Tasks_infotraff-1/NLP/bedrock.ipynb#W2sZmlsZQ%3D%3D?line=6'>7</a>\u001b[0m     agent_type\u001b[39m=\u001b[39;49mAgentType\u001b[39m.\u001b[39;49mZERO_SHOT_REACT_DESCRIPTION,\n\u001b[1;32m      <a href='vscode-notebook-cell:/Users/ahmedmostafa/Downloads/Tasks_infotraff-1/NLP/bedrock.ipynb#W2sZmlsZQ%3D%3D?line=7'>8</a>\u001b[0m     handle_parsing_errors\u001b[39m=\u001b[39;49m\u001b[39mTrue\u001b[39;49;00m,)\n",
      "File \u001b[0;32m~/miniconda3/envs/torch/lib/python3.9/site-packages/langchain_experimental/agents/agent_toolkits/csv/base.py:66\u001b[0m, in \u001b[0;36mcreate_csv_agent\u001b[0;34m(llm, path, pandas_kwargs, **kwargs)\u001b[0m\n\u001b[1;32m     64\u001b[0m \u001b[39melse\u001b[39;00m:\n\u001b[1;32m     65\u001b[0m     \u001b[39mraise\u001b[39;00m \u001b[39mValueError\u001b[39;00m(\u001b[39mf\u001b[39m\u001b[39m\"\u001b[39m\u001b[39mExpected str, list, or file-like object, got \u001b[39m\u001b[39m{\u001b[39;00m\u001b[39mtype\u001b[39m(path)\u001b[39m}\u001b[39;00m\u001b[39m\"\u001b[39m)\n\u001b[0;32m---> 66\u001b[0m \u001b[39mreturn\u001b[39;00m create_pandas_dataframe_agent(llm, df, \u001b[39m*\u001b[39;49m\u001b[39m*\u001b[39;49mkwargs)\n",
      "File \u001b[0;32m~/miniconda3/envs/torch/lib/python3.9/site-packages/langchain_experimental/agents/agent_toolkits/pandas/base.py:249\u001b[0m, in \u001b[0;36mcreate_pandas_dataframe_agent\u001b[0;34m(llm, df, agent_type, callback_manager, prefix, suffix, input_variables, verbose, return_intermediate_steps, max_iterations, max_execution_time, early_stopping_method, agent_executor_kwargs, include_df_in_prompt, number_of_head_rows, extra_tools, engine, allow_dangerous_code, **kwargs)\u001b[0m\n\u001b[1;32m    175\u001b[0m \u001b[39m\u001b[39m\u001b[39m\"\"\"Construct a Pandas agent from an LLM and dataframe(s).\u001b[39;00m\n\u001b[1;32m    176\u001b[0m \n\u001b[1;32m    177\u001b[0m \u001b[39mSecurity Notice:\u001b[39;00m\n\u001b[0;32m   (...)\u001b[0m\n\u001b[1;32m    246\u001b[0m \n\u001b[1;32m    247\u001b[0m \u001b[39m\"\"\"\u001b[39;00m\n\u001b[1;32m    248\u001b[0m \u001b[39mif\u001b[39;00m \u001b[39mnot\u001b[39;00m allow_dangerous_code:\n\u001b[0;32m--> 249\u001b[0m     \u001b[39mraise\u001b[39;00m \u001b[39mValueError\u001b[39;00m(\n\u001b[1;32m    250\u001b[0m         \u001b[39m\"\u001b[39m\u001b[39mThis agent relies on access to a python repl tool which can execute \u001b[39m\u001b[39m\"\u001b[39m\n\u001b[1;32m    251\u001b[0m         \u001b[39m\"\u001b[39m\u001b[39marbitrary code. This can be dangerous and requires a specially sandboxed \u001b[39m\u001b[39m\"\u001b[39m\n\u001b[1;32m    252\u001b[0m         \u001b[39m\"\u001b[39m\u001b[39menvironment to be safely used. Please read the security notice in the \u001b[39m\u001b[39m\"\u001b[39m\n\u001b[1;32m    253\u001b[0m         \u001b[39m\"\u001b[39m\u001b[39mdoc-string of this function. You must opt-in to use this functionality \u001b[39m\u001b[39m\"\u001b[39m\n\u001b[1;32m    254\u001b[0m         \u001b[39m\"\u001b[39m\u001b[39mby setting allow_dangerous_code=True.\u001b[39m\u001b[39m\"\u001b[39m\n\u001b[1;32m    255\u001b[0m         \u001b[39m\"\u001b[39m\u001b[39mFor general security guidelines, please see: \u001b[39m\u001b[39m\"\u001b[39m\n\u001b[1;32m    256\u001b[0m         \u001b[39m\"\u001b[39m\u001b[39mhttps://python.langchain.com/v0.2/docs/security/\u001b[39m\u001b[39m\"\u001b[39m\n\u001b[1;32m    257\u001b[0m     )\n\u001b[1;32m    258\u001b[0m \u001b[39mtry\u001b[39;00m:\n\u001b[1;32m    259\u001b[0m     \u001b[39mif\u001b[39;00m engine \u001b[39m==\u001b[39m \u001b[39m\"\u001b[39m\u001b[39mmodin\u001b[39m\u001b[39m\"\u001b[39m:\n",
      "\u001b[0;31mValueError\u001b[0m: This agent relies on access to a python repl tool which can execute arbitrary code. This can be dangerous and requires a specially sandboxed environment to be safely used. Please read the security notice in the doc-string of this function. You must opt-in to use this functionality by setting allow_dangerous_code=True.For general security guidelines, please see: https://python.langchain.com/v0.2/docs/security/"
     ]
    }
   ],
   "source": [
    "# allow_dangerous_code = True\n",
    "\n",
    "agent = create_csv_agent(\n",
    "    llm,\n",
    "    \"Data.csv\",\n",
    "    verbose=True,\n",
    "    agent_type=AgentType.ZERO_SHOT_REACT_DESCRIPTION,\n",
    "    handle_parsing_errors=True,)"
   ]
  },
  {
   "cell_type": "code",
   "execution_count": null,
   "metadata": {},
   "outputs": [],
   "source": []
  },
  {
   "cell_type": "code",
   "execution_count": null,
   "metadata": {},
   "outputs": [],
   "source": []
  }
 ],
 "metadata": {
  "kernelspec": {
   "display_name": "Python 3.9 (torch)",
   "language": "python",
   "name": "pytorch"
  },
  "language_info": {
   "codemirror_mode": {
    "name": "ipython",
    "version": 3
   },
   "file_extension": ".py",
   "mimetype": "text/x-python",
   "name": "python",
   "nbconvert_exporter": "python",
   "pygments_lexer": "ipython3",
   "version": "3.9.18"
  }
 },
 "nbformat": 4,
 "nbformat_minor": 2
}
