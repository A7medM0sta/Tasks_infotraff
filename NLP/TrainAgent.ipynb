{
 "cells": [
  {
   "cell_type": "code",
   "execution_count": 1,
   "metadata": {},
   "outputs": [
    {
     "name": "stdout",
     "output_type": "stream",
     "text": [
      "The most common gender is Female.\n"
     ]
    }
   ],
   "source": [
    "from pandasai import Agent\n",
    "import os\n",
    "import pandas as pd\n",
    "# Set your PandasAI API key (you can generate one signing up at https://pandabi.ai)\n",
    "os.environ[\"PANDASAI_API_KEY\"] = \"$2a$10$gg8AQxNW4vARI4jlk2Ejiu/GITiCx.0oMZwJINMtxBowbUWpAT4jm\"\n",
    "df = pd.read_excel(\"Intern NLP Dataset.xlsx\")\n",
    "\n",
    "agent = Agent(df)\n",
    "agent.train(docs=\"Most Common Visitor Type\")\n",
    "\n",
    "response = agent.chat(\"Who is my most common gender ?\")\n",
    "print(response)\n",
    "# The model will use the information provided in the training to generate a response"
   ]
  },
  {
   "cell_type": "code",
   "execution_count": 23,
   "metadata": {},
   "outputs": [
    {
     "name": "stdout",
     "output_type": "stream",
     "text": [
      "The most common gender is Female.\n"
     ]
    }
   ],
   "source": [
    "# with the train\n",
    "# agent.train(docs=\"Gender that Comes to the gym repeat\")\n",
    "response = agent.chat(\"Who is my most common gender ?\")\n",
    "print(response)"
   ]
  },
  {
   "cell_type": "code",
   "execution_count": 24,
   "metadata": {},
   "outputs": [
    {
     "name": "stdout",
     "output_type": "stream",
     "text": [
      "The most visited hour is at 14:00\n"
     ]
    }
   ],
   "source": [
    "response = agent.chat(\"What time did I get most visits ?\")\n",
    "print(response)"
   ]
  },
  {
   "cell_type": "code",
   "execution_count": 10,
   "metadata": {},
   "outputs": [
    {
     "name": "stdout",
     "output_type": "stream",
     "text": [
      "12\n"
     ]
    }
   ],
   "source": [
    "# Please enter your query in natural language:\n",
    "# What time did I get most visits ?\n",
    "# Intent: Most Visitors in a Minute\n",
    "# The minute with the most visitors is 2024-07-17 15:12:00 with 5 visitors.\n",
    "agent.train(docs=\"most visits be minute domain\")\n",
    "response = agent.chat(\"What time did I get most visits with numerber of visits\")\n",
    "print(response)"
   ]
  },
  {
   "cell_type": "code",
   "execution_count": 28,
   "metadata": {},
   "outputs": [
    {
     "name": "stdout",
     "output_type": "stream",
     "text": [
      "32\n"
     ]
    }
   ],
   "source": [
    "response = agent.chat(\"How many hijab visited me ?\")\n",
    "print(response)"
   ]
  },
  {
   "cell_type": "code",
   "execution_count": 30,
   "metadata": {},
   "outputs": [
    {
     "name": "stdout",
     "output_type": "stream",
     "text": [
      "32\n"
     ]
    }
   ],
   "source": [
    "# Please enter your query in natural language:\n",
    "# How many hijab visited me ?\n",
    "# Intent: Visitor Count with Single Attribute\n",
    "# The number of the specific visitors is 32.\n",
    "\n",
    "agent.train(docs=\"number of visits of column hijab\")\n",
    "response = agent.chat(\"How many hijab visited me ?\")\n",
    "print(response)"
   ]
  },
  {
   "cell_type": "code",
   "execution_count": 11,
   "metadata": {},
   "outputs": [
    {
     "name": "stdout",
     "output_type": "stream",
     "text": [
      "5\n"
     ]
    }
   ],
   "source": [
    "response = agent.chat(\"How many Famele visited me in my peak time , time format with mintue domain\")\n",
    "print(response)"
   ]
  },
  {
   "cell_type": "code",
   "execution_count": 37,
   "metadata": {},
   "outputs": [
    {
     "name": "stdout",
     "output_type": "stream",
     "text": [
      "The number of females visited during the peak time in time format is 35.\n"
     ]
    }
   ],
   "source": [
    "# Please enter your query in natural language:\n",
    "# How many woman visited me in my peak time ?\n",
    "# Intent: Most Visitors in a Minute\n",
    "# The minute with the most visitors is 2024-07-17 15:12:00 with 5 visitors.\n",
    "\n",
    "agent.train(\n",
    "    docs=\"when place full of Famele\"\n",
    ")\n",
    "response = agent.chat(\n",
    "    \"How many females visited me during my peak time, time format?\"\n",
    ")\n",
    "print(response)"
   ]
  },
  {
   "cell_type": "code",
   "execution_count": 39,
   "metadata": {},
   "outputs": [
    {
     "name": "stdout",
     "output_type": "stream",
     "text": [
      "0\n"
     ]
    }
   ],
   "source": [
    "response = agent.chat(\"How many Male visited me in my peak time , time format\")\n",
    "print(response)"
   ]
  },
  {
   "cell_type": "code",
   "execution_count": 40,
   "metadata": {},
   "outputs": [
    {
     "name": "stdout",
     "output_type": "stream",
     "text": [
      "1 Hijab visitors during the peak time.\n"
     ]
    }
   ],
   "source": [
    "response = agent.chat(\"How many Hijab visited me in my peak time , time format\")\n",
    "print(response)"
   ]
  },
  {
   "cell_type": "code",
   "execution_count": 41,
   "metadata": {},
   "outputs": [
    {
     "name": "stdout",
     "output_type": "stream",
     "text": [
      "0\n"
     ]
    }
   ],
   "source": [
    "response = agent.chat(\"How many Child visited me in my peak time , time format\")\n",
    "print(response)"
   ]
  },
  {
   "cell_type": "code",
   "execution_count": 8,
   "metadata": {},
   "outputs": [
    {
     "name": "stdout",
     "output_type": "stream",
     "text": [
      "The most common gender is Female\n"
     ]
    }
   ],
   "source": [
    "response = agent.chat(\"Who is my most common gender ?\")\n",
    "print(response)"
   ]
  },
  {
   "cell_type": "code",
   "execution_count": 9,
   "metadata": {},
   "outputs": [
    {
     "name": "stdout",
     "output_type": "stream",
     "text": [
      "19\n"
     ]
    }
   ],
   "source": [
    "# without the train\n",
    "response = agent.chat(\"How many hijab visited me in my peak time ?\")\n",
    "print(response)"
   ]
  },
  {
   "cell_type": "code",
   "execution_count": 15,
   "metadata": {},
   "outputs": [
    {
     "name": "stdout",
     "output_type": "stream",
     "text": [
      "19\n"
     ]
    }
   ],
   "source": [
    "agent.train(docs=\"The number of Hajib that visited during peak time.\")\n",
    "response = agent.chat(\"How many hijab visited me in my peak time ?\")\n",
    "print(response)"
   ]
  },
  {
   "cell_type": "code",
   "execution_count": null,
   "metadata": {},
   "outputs": [],
   "source": [
    "# Please enter your query in natural language:\n",
    "# Who is my most common visitor ?\n",
    "# Intent: Most Common Visitor Type\n",
    "# The most common visitor type is 'Is Female' with 52 occurrences.\n",
    "\n",
    "# Please enter your query in natural language:\n",
    "# What time did I get most visits ?\n",
    "# Intent: Most Visitors in a Minute\n",
    "# The minute with the most visitors is 2024-07-17 15:12:00 with 5 visitors.\n",
    "\n",
    "# Please enter your query in natural language:\n",
    "# How many hijab visited me ?\n",
    "# Intent: Visitor Count with Single Attribute\n",
    "# The number of the specific visitors is 32.\n",
    "\n",
    "# Please enter your query in natural language:\n",
    "# How many females visited me ?\n",
    "# Intent:Visitor Count with Single Attribute\n",
    "# The number of the specific visitors is 52.\n",
    "\n",
    "# Please enter your query in natural language:\n",
    "# How many woman visited me in my peak time ?\n",
    "# Intent: Most Visitors in a Minute\n",
    "# The minute with the most visitors is 2024-07-17 15:12:00 with 5 visitors.\n",
    "\n",
    "# Please enter your query in natural language:\n",
    "# Break Most Visitors in a Minute\n",
    "# The minute with the most visitors is 2024-07-17 15:12:00 with 5 visitors."
   ]
  }
 ],
 "metadata": {
  "kernelspec": {
   "display_name": "Python 3.9 (torch)",
   "language": "python",
   "name": "pytorch"
  },
  "language_info": {
   "codemirror_mode": {
    "name": "ipython",
    "version": 3
   },
   "file_extension": ".py",
   "mimetype": "text/x-python",
   "name": "python",
   "nbconvert_exporter": "python",
   "pygments_lexer": "ipython3",
   "version": "3.9.18"
  }
 },
 "nbformat": 4,
 "nbformat_minor": 2
}
