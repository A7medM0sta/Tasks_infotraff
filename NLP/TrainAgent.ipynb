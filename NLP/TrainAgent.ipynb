{
 "cells": [
  {
   "cell_type": "code",
   "execution_count": 54,
   "metadata": {},
   "outputs": [
    {
     "name": "stdout",
     "output_type": "stream",
     "text": [
      "The most common gender is Female.\n"
     ]
    }
   ],
   "source": [
    "from pandasai import Agent\n",
    "import os\n",
    "import pandas as pd\n",
    "\n",
    "\n",
    "# Set your PandasAI API key (you can generate one signing up at https://pandabi.ai)\n",
    "os.environ[\"PANDASAI_API_KEY\"] = \"$2a$10$gg8AQxNW4vARI4jlk2Ejiu/GITiCx.0oMZwJINMtxBowbUWpAT4jm\"\n",
    "df = pd.read_excel(\"Intern NLP Dataset.xlsx\")\n",
    "\n",
    "agent = Agent(df)\n",
    "agent.train(docs=\"Most Common Visitor Type\")\n",
    "\n",
    "response = agent.chat(\"Who is my most common gender ?\")\n",
    "print(response)\n",
    "# The model will use the information provided in the training to generate a response"
   ]
  },
  {
   "cell_type": "code",
   "execution_count": 23,
   "metadata": {},
   "outputs": [
    {
     "name": "stdout",
     "output_type": "stream",
     "text": [
      "The most common gender is Female.\n"
     ]
    }
   ],
   "source": [
    "# with the train\n",
    "# agent.train(docs=\"Gender that Comes to the gym repeat\")\n",
    "response = agent.chat(\"Who is my most common gender ?\")\n",
    "print(response)"
   ]
  },
  {
   "cell_type": "code",
   "execution_count": 24,
   "metadata": {},
   "outputs": [
    {
     "name": "stdout",
     "output_type": "stream",
     "text": [
      "The most visited hour is at 14:00\n"
     ]
    }
   ],
   "source": [
    "response = agent.chat(\"What time did I get most visits ?\")\n",
    "print(response)"
   ]
  },
  {
   "cell_type": "code",
   "execution_count": 19,
   "metadata": {},
   "outputs": [
    {
     "name": "stdout",
     "output_type": "stream",
     "text": [
      "The peak time with the most visits by females is 12 minutes past the hour, with 5 visits.\n"
     ]
    }
   ],
   "source": [
    "# Please enter your query in natural language:\n",
    "# What time did I get most visits ?\n",
    "# Intent: Most Visitors in a Minute\n",
    "# The minute with the most visitors is 2024-07-17 15:12:00 with 5 visitors.\n",
    "agent.train(docs=\"number of visits visits be minute domain\")\n",
    "response = agent.chat(\"What Time did I get most visits with numerber of visits, minute \")\n",
    "print(response)"
   ]
  },
  {
   "cell_type": "code",
   "execution_count": 38,
   "metadata": {},
   "outputs": [
    {
     "name": "stdout",
     "output_type": "stream",
     "text": [
      "The time with the most visits is 2024-07-17 14:30:38.456000.\n"
     ]
    }
   ],
   "source": [
    "# agent.train(docs=\"Number of Visits with Minute domain only\")\n",
    "response = agent.chat(\"What time did i get most visits with number of visits\")\n",
    "print(response)"
   ]
  },
  {
   "cell_type": "code",
   "execution_count": 39,
   "metadata": {},
   "outputs": [
    {
     "name": "stdout",
     "output_type": "stream",
     "text": [
      "The hour with the highest number of visits last week was 14:00.\n"
     ]
    }
   ],
   "source": [
    "response = agent.chat(\n",
    "    \"During which hour of the day did I receive the highest number of visits last week?\"\n",
    ")\n",
    "print(response)"
   ]
  },
  {
   "cell_type": "code",
   "execution_count": 28,
   "metadata": {},
   "outputs": [
    {
     "name": "stdout",
     "output_type": "stream",
     "text": [
      "32\n"
     ]
    }
   ],
   "source": [
    "response = agent.chat(\"How many hijab visited me ?\")\n",
    "print(response)"
   ]
  },
  {
   "cell_type": "code",
   "execution_count": 30,
   "metadata": {},
   "outputs": [
    {
     "name": "stdout",
     "output_type": "stream",
     "text": [
      "32\n"
     ]
    }
   ],
   "source": [
    "# Please enter your query in natural language:\n",
    "# How many hijab visited me ?\n",
    "# Intent: Visitor Count with Single Attribute\n",
    "# The number of the specific visitors is 32.\n",
    "\n",
    "agent.train(docs=\"number of visits of column hijab\")\n",
    "response = agent.chat(\"How many hijab visited me ?\")\n",
    "print(response)"
   ]
  },
  {
   "cell_type": "code",
   "execution_count": 11,
   "metadata": {},
   "outputs": [
    {
     "name": "stdout",
     "output_type": "stream",
     "text": [
      "5\n"
     ]
    }
   ],
   "source": [
    "response = agent.chat(\"How many Famele visited me in my peak time , time format with mintue domain\")\n",
    "print(response)"
   ]
  },
  {
   "cell_type": "code",
   "execution_count": 14,
   "metadata": {},
   "outputs": [
    {
     "name": "stdout",
     "output_type": "stream",
     "text": [
      "0\n"
     ]
    }
   ],
   "source": [
    "response = agent.chat(\"How many Females visited me during my peak time, time format?\")\n",
    "print(response)"
   ]
  },
  {
   "cell_type": "code",
   "execution_count": 17,
   "metadata": {},
   "outputs": [
    {
     "name": "stdout",
     "output_type": "stream",
     "text": [
      "5\n"
     ]
    }
   ],
   "source": [
    "# Please enter your query in natural language:\n",
    "# How many woman visited me in my peak time ?\n",
    "# Intent: Most Visitors in a Minute\n",
    "# The minute with the most visitors is 2024-07-17 15:12:00 with 5 visitors.\n",
    "\n",
    "agent.train(docs=\"peak time with mintue domain\")\n",
    "response = agent.chat(\"How many Females visited me during my peak time, time format?\")\n",
    "print(response)"
   ]
  },
  {
   "cell_type": "code",
   "execution_count": 39,
   "metadata": {},
   "outputs": [
    {
     "name": "stdout",
     "output_type": "stream",
     "text": [
      "0\n"
     ]
    }
   ],
   "source": [
    "response = agent.chat(\"How many Male visited me in my peak time , time format\")\n",
    "print(response)"
   ]
  },
  {
   "cell_type": "code",
   "execution_count": 40,
   "metadata": {},
   "outputs": [
    {
     "name": "stdout",
     "output_type": "stream",
     "text": [
      "1 Hijab visitors during the peak time.\n"
     ]
    }
   ],
   "source": [
    "response = agent.chat(\"How many Hijab visited me in my peak time , time format\")\n",
    "print(response)"
   ]
  },
  {
   "cell_type": "code",
   "execution_count": 41,
   "metadata": {},
   "outputs": [
    {
     "name": "stdout",
     "output_type": "stream",
     "text": [
      "0\n"
     ]
    }
   ],
   "source": [
    "response = agent.chat(\"How many Child visited me in my peak time , time format\")\n",
    "print(response)"
   ]
  },
  {
   "cell_type": "code",
   "execution_count": 8,
   "metadata": {},
   "outputs": [
    {
     "name": "stdout",
     "output_type": "stream",
     "text": [
      "The most common gender is Female\n"
     ]
    }
   ],
   "source": [
    "response = agent.chat(\"Who is my most common gender ?\")\n",
    "print(response)"
   ]
  },
  {
   "cell_type": "code",
   "execution_count": 9,
   "metadata": {},
   "outputs": [
    {
     "name": "stdout",
     "output_type": "stream",
     "text": [
      "19\n"
     ]
    }
   ],
   "source": [
    "# without the train\n",
    "response = agent.chat(\"How many hijab visited me in my peak time ?\")\n",
    "print(response)"
   ]
  },
  {
   "cell_type": "code",
   "execution_count": 15,
   "metadata": {},
   "outputs": [
    {
     "name": "stdout",
     "output_type": "stream",
     "text": [
      "19\n"
     ]
    }
   ],
   "source": [
    "agent.train(docs=\"The number of Hajib that visited during peak time.\")\n",
    "response = agent.chat(\"How many hijab visited me in my peak time ?\")\n",
    "print(response)"
   ]
  },
  {
   "cell_type": "code",
   "execution_count": null,
   "metadata": {},
   "outputs": [],
   "source": [
    "# Please enter your query in natural language:\n",
    "# Who is my most common visitor ?\n",
    "# Intent: Most Common Visitor Type\n",
    "# The most common visitor type is 'Is Female' with 52 occurrences.\n",
    "\n",
    "# Please enter your query in natural language:\n",
    "# What time did I get most visits ?\n",
    "# Intent: Most Visitors in a Minute\n",
    "# The minute with the most visitors is 2024-07-17 15:12:00 with 5 visitors.\n",
    "\n",
    "# Please enter your query in natural language:\n",
    "# How many hijab visited me ?\n",
    "# Intent: Visitor Count with Single Attribute\n",
    "# The number of the specific visitors is 32.\n",
    "\n",
    "# Please enter your query in natural language:\n",
    "# How many females visited me ?\n",
    "# Intent:Visitor Count with Single Attribute\n",
    "# The number of the specific visitors is 52.\n",
    "\n",
    "# Please enter your query in natural language:\n",
    "# How many woman visited me in my peak time ?\n",
    "# Intent: Most Visitors in a Minute\n",
    "# The minute with the most visitors is 2024-07-17 15:12:00 with 5 visitors.\n",
    "\n",
    "# Please enter your query in natural language:\n",
    "# Break Most Visitors in a Minute\n",
    "# The minute with the most visitors is 2024-07-17 15:12:00 with 5 visitors."
   ]
  },
  {
   "cell_type": "code",
   "execution_count": 53,
   "metadata": {},
   "outputs": [
    {
     "name": "stdout",
     "output_type": "stream",
     "text": [
      "The minute with the most visits is 12 with 5 visits.\n"
     ]
    }
   ],
   "source": [
    "from pandasai import Agent\n",
    "dfs = [df]\n",
    "\n",
    "# Q/A training is used to teach PandasAI the desired process to answer specific questions, \n",
    "# enhancing the model’s performance and determinism. \n",
    "# One of the biggest challenges with LLMs is that they are not deterministic, \n",
    "# meaning that the same question can produce different answers at different times. \n",
    "# Q/A training can help to mitigate this issue.\n",
    "\n",
    "# Train the model\n",
    "query = \"What minute did I get most visits with number of visits?\"\n",
    "response_code = \"\"\"\n",
    "import pandas as pd\n",
    "df = dfs[0]\n",
    "\n",
    "# Convert the 'Time' column to datetime\n",
    "df['Time'] = pd.to_datetime(df['Time'])\n",
    "\n",
    "# Ensure the 'Minute' column is correctly extracted from the 'Time'\n",
    "df['Minute'] = df['Time'].dt.minute\n",
    "\n",
    "# Find the minute with the most visits\n",
    "most_visits_minute = df['Minute'].value_counts().idxmax()\n",
    "num_visits = df['Minute'].value_counts().max()\n",
    "\n",
    "# Format the result\n",
    "result = {\"type\": \"minute\", \"value\": most_visits_minute, \"visits\": num_visits}\n",
    "\"\"\"\n",
    "\n",
    "# Create the agent instance\n",
    "# agent = PandasAgent()\n",
    "agent = Agent(dfs)\n",
    "# Train the agent\n",
    "agent.train(queries=[query], codes=[response_code])\n",
    "\n",
    "# The model will use the information provided in the training to generate a response\n",
    "response = agent.chat(\"What minute did I get most visits with number of visits?\")\n",
    "print(response)"
   ]
  },
  {
   "cell_type": "code",
   "execution_count": null,
   "metadata": {},
   "outputs": [],
   "source": []
  }
 ],
 "metadata": {
  "kernelspec": {
   "display_name": "Python 3.9 (torch)",
   "language": "python",
   "name": "pytorch"
  },
  "language_info": {
   "codemirror_mode": {
    "name": "ipython",
    "version": 3
   },
   "file_extension": ".py",
   "mimetype": "text/x-python",
   "name": "python",
   "nbconvert_exporter": "python",
   "pygments_lexer": "ipython3",
   "version": "3.9.18"
  }
 },
 "nbformat": 4,
 "nbformat_minor": 2
}
