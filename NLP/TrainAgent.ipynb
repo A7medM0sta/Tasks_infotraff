{
 "cells": [
  {
   "cell_type": "code",
   "execution_count": 22,
   "metadata": {},
   "outputs": [
    {
     "name": "stdout",
     "output_type": "stream",
     "text": [
      "The most common gender is Female.\n"
     ]
    }
   ],
   "source": [
    "from pandasai import Agent\n",
    "import os\n",
    "import pandas as pd\n",
    "# Set your PandasAI API key (you can generate one signing up at https://pandabi.ai)\n",
    "os.environ[\"PANDASAI_API_KEY\"] = \"$2a$10$gg8AQxNW4vARI4jlk2Ejiu/GITiCx.0oMZwJINMtxBowbUWpAT4jm\"\n",
    "df = pd.read_excel(\"Intern NLP Dataset.xlsx\")\n",
    "\n",
    "agent = Agent(df)\n",
    "agent.train(docs=\"Most Common Visitor Type\")\n",
    "\n",
    "response = agent.chat(\"Who is my most common gender ?\")\n",
    "print(response)\n",
    "# The model will use the information provided in the training to generate a response"
   ]
  },
  {
   "cell_type": "code",
   "execution_count": 23,
   "metadata": {},
   "outputs": [
    {
     "name": "stdout",
     "output_type": "stream",
     "text": [
      "The most common gender is Female.\n"
     ]
    }
   ],
   "source": [
    "# with the train\n",
    "# agent.train(docs=\"Gender that Comes to the gym repeat\")\n",
    "response = agent.chat(\"Who is my most common gender ?\")\n",
    "print(response)"
   ]
  },
  {
   "cell_type": "code",
   "execution_count": 24,
   "metadata": {},
   "outputs": [
    {
     "name": "stdout",
     "output_type": "stream",
     "text": [
      "The most visited hour is at 14:00\n"
     ]
    }
   ],
   "source": [
    "response = agent.chat(\"What time did I get most visits ?\")\n",
    "print(response)"
   ]
  },
  {
   "cell_type": "code",
   "execution_count": 27,
   "metadata": {},
   "outputs": [
    {
     "name": "stdout",
     "output_type": "stream",
     "text": [
      "The hour with the most visits is 14:00 with 39 visits.\n"
     ]
    }
   ],
   "source": [
    "# Please enter your query in natural language:\n",
    "# What time did I get most visits ?\n",
    "# Intent: Most Visitors in a Minute\n",
    "# The minute with the most visitors is 2024-07-17 15:12:00 with 5 visitors.\n",
    "agent.train(docs=\"Most Visitors in a Minute\")\n",
    "response = agent.chat(\"What time did I get most visits with numerber of visits\")\n",
    "print(response)"
   ]
  },
  {
   "cell_type": "code",
   "execution_count": 28,
   "metadata": {},
   "outputs": [
    {
     "name": "stdout",
     "output_type": "stream",
     "text": [
      "32\n"
     ]
    }
   ],
   "source": [
    "response = agent.chat(\"How many hijab visited me ?\")\n",
    "print(response)"
   ]
  },
  {
   "cell_type": "code",
   "execution_count": 30,
   "metadata": {},
   "outputs": [
    {
     "name": "stdout",
     "output_type": "stream",
     "text": [
      "32\n"
     ]
    }
   ],
   "source": [
    "# Please enter your query in natural language:\n",
    "# How many hijab visited me ?\n",
    "# Intent: Visitor Count with Single Attribute\n",
    "# The number of the specific visitors is 32.\n",
    "\n",
    "agent.train(docs=\"number of visits of column hijab\")\n",
    "response = agent.chat(\"How many hijab visited me ?\")\n",
    "print(response)"
   ]
  },
  {
   "cell_type": "code",
   "execution_count": 31,
   "metadata": {},
   "outputs": [
    {
     "name": "stdout",
     "output_type": "stream",
     "text": [
      "The number of Female visitors during the peak time is 35 at 14:00.\n"
     ]
    }
   ],
   "source": [
    "response = agent.chat(\"How many Famele visited me in my peak time , time format\")\n",
    "print(response)"
   ]
  },
  {
   "cell_type": "code",
   "execution_count": 37,
   "metadata": {},
   "outputs": [
    {
     "name": "stdout",
     "output_type": "stream",
     "text": [
      "The number of females visited during the peak time in time format is 35.\n"
     ]
    }
   ],
   "source": [
    "# Please enter your query in natural language:\n",
    "# How many woman visited me in my peak time ?\n",
    "# Intent: Most Visitors in a Minute\n",
    "# The minute with the most visitors is 2024-07-17 15:12:00 with 5 visitors.\n",
    "\n",
    "agent.train(\n",
    "    docs=\"when place full of Famele\"\n",
    ")\n",
    "response = agent.chat(\n",
    "    \"How many females visited me during my peak time, time format?\"\n",
    ")\n",
    "print(response)"
   ]
  },
  {
   "cell_type": "code",
   "execution_count": 39,
   "metadata": {},
   "outputs": [
    {
     "name": "stdout",
     "output_type": "stream",
     "text": [
      "0\n"
     ]
    }
   ],
   "source": [
    "response = agent.chat(\"How many Male visited me in my peak time , time format\")\n",
    "print(response)"
   ]
  },
  {
   "cell_type": "code",
   "execution_count": 40,
   "metadata": {},
   "outputs": [
    {
     "name": "stdout",
     "output_type": "stream",
     "text": [
      "1 Hijab visitors during the peak time.\n"
     ]
    }
   ],
   "source": [
    "response = agent.chat(\"How many Hijab visited me in my peak time , time format\")\n",
    "print(response)"
   ]
  },
  {
   "cell_type": "code",
   "execution_count": 41,
   "metadata": {},
   "outputs": [
    {
     "name": "stdout",
     "output_type": "stream",
     "text": [
      "0\n"
     ]
    }
   ],
   "source": [
    "response = agent.chat(\"How many Child visited me in my peak time , time format\")\n",
    "print(response)"
   ]
  },
  {
   "cell_type": "code",
   "execution_count": 8,
   "metadata": {},
   "outputs": [
    {
     "name": "stdout",
     "output_type": "stream",
     "text": [
      "The most common gender is Female\n"
     ]
    }
   ],
   "source": [
    "response = agent.chat(\"Who is my most common gender ?\")\n",
    "print(response)"
   ]
  },
  {
   "cell_type": "code",
   "execution_count": 9,
   "metadata": {},
   "outputs": [
    {
     "name": "stdout",
     "output_type": "stream",
     "text": [
      "19\n"
     ]
    }
   ],
   "source": [
    "# without the train\n",
    "response = agent.chat(\"How many hijab visited me in my peak time ?\")\n",
    "print(response)"
   ]
  },
  {
   "cell_type": "code",
   "execution_count": 15,
   "metadata": {},
   "outputs": [
    {
     "name": "stdout",
     "output_type": "stream",
     "text": [
      "19\n"
     ]
    }
   ],
   "source": [
    "agent.train(docs=\"The number of Hajib that visited during peak time.\")\n",
    "response = agent.chat(\"How many hijab visited me in my peak time ?\")\n",
    "print(response)"
   ]
  },
  {
   "cell_type": "code",
   "execution_count": 18,
   "metadata": {},
   "outputs": [
    {
     "name": "stderr",
     "output_type": "stream",
     "text": [
      "Traceback (most recent call last):\n",
      "  File \"/Users/ahmedmostafa/miniconda3/envs/torch/lib/python3.9/site-packages/pandasai/pipelines/chat/code_execution.py\", line 85, in execute\n",
      "    result = self.execute_code(code_to_run, code_context)\n",
      "  File \"/Users/ahmedmostafa/miniconda3/envs/torch/lib/python3.9/site-packages/pandasai/pipelines/chat/code_execution.py\", line 171, in execute_code\n",
      "    exec(code, environment)\n",
      "  File \"<string>\", line 3, in <module>\n",
      "AttributeError: 'numpy.ndarray' object has no attribute 'value_counts'\n",
      "\n",
      "During handling of the above exception, another exception occurred:\n",
      "\n",
      "Traceback (most recent call last):\n",
      "  File \"/Users/ahmedmostafa/miniconda3/envs/torch/lib/python3.9/site-packages/pandasai/pipelines/chat/generate_chat_pipeline.py\", line 333, in run\n",
      "    output = (\n",
      "  File \"/Users/ahmedmostafa/miniconda3/envs/torch/lib/python3.9/site-packages/pandasai/pipelines/pipeline.py\", line 137, in run\n",
      "    raise e\n",
      "  File \"/Users/ahmedmostafa/miniconda3/envs/torch/lib/python3.9/site-packages/pandasai/pipelines/pipeline.py\", line 101, in run\n",
      "    step_output = logic.execute(\n",
      "  File \"/Users/ahmedmostafa/miniconda3/envs/torch/lib/python3.9/site-packages/pandasai/pipelines/chat/code_execution.py\", line 125, in execute\n",
      "    code_to_run = self._retry_run_code(\n",
      "  File \"/Users/ahmedmostafa/miniconda3/envs/torch/lib/python3.9/site-packages/pandasai/pipelines/chat/code_execution.py\", line 346, in _retry_run_code\n",
      "    return self.on_retry(code, e)\n",
      "  File \"/Users/ahmedmostafa/miniconda3/envs/torch/lib/python3.9/site-packages/pandasai/pipelines/chat/generate_chat_pipeline.py\", line 162, in on_code_retry\n",
      "    return self.code_exec_error_pipeline.run(correction_input)\n",
      "  File \"/Users/ahmedmostafa/miniconda3/envs/torch/lib/python3.9/site-packages/pandasai/pipelines/chat/error_correction_pipeline/error_correction_pipeline.py\", line 48, in run\n",
      "    return self.pipeline.run(input)\n",
      "  File \"/Users/ahmedmostafa/miniconda3/envs/torch/lib/python3.9/site-packages/pandasai/pipelines/pipeline.py\", line 137, in run\n",
      "    raise e\n",
      "  File \"/Users/ahmedmostafa/miniconda3/envs/torch/lib/python3.9/site-packages/pandasai/pipelines/pipeline.py\", line 101, in run\n",
      "    step_output = logic.execute(\n",
      "  File \"/Users/ahmedmostafa/miniconda3/envs/torch/lib/python3.9/site-packages/pandasai/pipelines/chat/code_generator.py\", line 33, in execute\n",
      "    code = pipeline_context.config.llm.generate_code(input, pipeline_context)\n",
      "  File \"/Users/ahmedmostafa/miniconda3/envs/torch/lib/python3.9/site-packages/pandasai/llm/base.py\", line 201, in generate_code\n",
      "    response = self.call(instruction, context)\n",
      "  File \"/Users/ahmedmostafa/miniconda3/envs/torch/lib/python3.9/site-packages/pandasai/llm/bamboo_llm.py\", line 18, in call\n",
      "    response = self._session.post(\"/llm/chat\", json=data)\n",
      "  File \"/Users/ahmedmostafa/miniconda3/envs/torch/lib/python3.9/site-packages/pandasai/helpers/request.py\", line 37, in post\n",
      "    return self.make_request(\"POST\", path, **kwargs)\n",
      "  File \"/Users/ahmedmostafa/miniconda3/envs/torch/lib/python3.9/site-packages/pandasai/helpers/request.py\", line 71, in make_request\n",
      "    raise PandasAIApiCallError(data[\"message\"])\n",
      "pandasai.exceptions.PandasAIApiCallError: Your BambooLLM inference limit has been reached. Please use pandas-ai with any other LLM available in the library. If you wish to continue using BambooLLM, visit this link https://tally.so/r/wzZNWg for more information.\n"
     ]
    },
    {
     "name": "stdout",
     "output_type": "stream",
     "text": [
      "Unfortunately, I was not able to answer your question, because of the following error:\n",
      "\n",
      "Your BambooLLM inference limit has been reached. Please use pandas-ai with any other LLM available in the library. If you wish to continue using BambooLLM, visit this link https://tally.so/r/wzZNWg for more information.\n",
      "\n"
     ]
    }
   ],
   "source": [
    "agent.train(docs=\"Visitor Count with Single Attribute\")\n",
    "response = agent.chat(\"How many hijab visited me in my peak time, ?\")\n",
    "print(response)"
   ]
  },
  {
   "cell_type": "code",
   "execution_count": null,
   "metadata": {},
   "outputs": [],
   "source": [
    "# Please enter your query in natural language:\n",
    "# Who is my most common visitor ?\n",
    "# Intent: Most Common Visitor Type\n",
    "# The most common visitor type is 'Is Female' with 52 occurrences.\n",
    "\n",
    "# Please enter your query in natural language:\n",
    "# What time did I get most visits ?\n",
    "# Intent: Most Visitors in a Minute\n",
    "# The minute with the most visitors is 2024-07-17 15:12:00 with 5 visitors.\n",
    "\n",
    "# Please enter your query in natural language:\n",
    "# How many hijab visited me ?\n",
    "# Intent: Visitor Count with Single Attribute\n",
    "# The number of the specific visitors is 32.\n",
    "\n",
    "# Please enter your query in natural language:\n",
    "# How many females visited me ?\n",
    "# Intent:Visitor Count with Single Attribute\n",
    "# The number of the specific visitors is 52.\n",
    "\n",
    "# Please enter your query in natural language:\n",
    "# How many woman visited me in my peak time ?\n",
    "# Intent: Most Visitors in a Minute\n",
    "# The minute with the most visitors is 2024-07-17 15:12:00 with 5 visitors.\n",
    "\n",
    "# Please enter your query in natural language:\n",
    "# Break Most Visitors in a Minute\n",
    "# The minute with the most visitors is 2024-07-17 15:12:00 with 5 visitors."
   ]
  }
 ],
 "metadata": {
  "kernelspec": {
   "display_name": "Python 3.9 (torch)",
   "language": "python",
   "name": "pytorch"
  },
  "language_info": {
   "codemirror_mode": {
    "name": "ipython",
    "version": 3
   },
   "file_extension": ".py",
   "mimetype": "text/x-python",
   "name": "python",
   "nbconvert_exporter": "python",
   "pygments_lexer": "ipython3",
   "version": "3.9.18"
  }
 },
 "nbformat": 4,
 "nbformat_minor": 2
}
