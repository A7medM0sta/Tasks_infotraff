{
 "cells": [
  {
   "cell_type": "code",
   "execution_count": 1,
   "id": "initial_id",
   "metadata": {
    "ExecuteTime": {
     "end_time": "2024-08-06T18:12:23.871136Z",
     "start_time": "2024-08-06T18:11:49.979187Z"
    },
    "collapsed": true
   },
   "outputs": [
    {
     "name": "stdout",
     "output_type": "stream",
     "text": [
      "Requirement already satisfied: pandasai in /Users/ahmedmostafa/miniconda3/envs/torch/lib/python3.9/site-packages (2.2.14)\n",
      "Requirement already satisfied: astor<0.9.0,>=0.8.1 in /Users/ahmedmostafa/miniconda3/envs/torch/lib/python3.9/site-packages (from pandasai) (0.8.1)\n",
      "Requirement already satisfied: duckdb<2.0.0,>=1.0.0 in /Users/ahmedmostafa/miniconda3/envs/torch/lib/python3.9/site-packages (from pandasai) (1.0.0)\n",
      "Requirement already satisfied: faker<20.0.0,>=19.12.0 in /Users/ahmedmostafa/miniconda3/envs/torch/lib/python3.9/site-packages (from pandasai) (19.13.0)\n",
      "Requirement already satisfied: jinja2<4.0.0,>=3.1.3 in /Users/ahmedmostafa/miniconda3/envs/torch/lib/python3.9/site-packages (from pandasai) (3.1.4)\n",
      "Requirement already satisfied: matplotlib<4.0.0,>=3.7.1 in /Users/ahmedmostafa/miniconda3/envs/torch/lib/python3.9/site-packages (from pandasai) (3.9.1)\n",
      "Requirement already satisfied: openai<2 in /Users/ahmedmostafa/miniconda3/envs/torch/lib/python3.9/site-packages (from pandasai) (0.27.4)\n",
      "Requirement already satisfied: pandas==1.5.3 in /Users/ahmedmostafa/miniconda3/envs/torch/lib/python3.9/site-packages (from pandasai) (1.5.3)\n",
      "Requirement already satisfied: pillow<11.0.0,>=10.1.0 in /Users/ahmedmostafa/miniconda3/envs/torch/lib/python3.9/site-packages (from pandasai) (10.4.0)\n",
      "Requirement already satisfied: pydantic<3,>=1 in /Users/ahmedmostafa/miniconda3/envs/torch/lib/python3.9/site-packages (from pandasai) (2.7.4)\n",
      "Requirement already satisfied: python-dotenv<2.0.0,>=1.0.0 in /Users/ahmedmostafa/miniconda3/envs/torch/lib/python3.9/site-packages (from pandasai) (1.0.0)\n",
      "Requirement already satisfied: requests<3.0.0,>=2.31.0 in /Users/ahmedmostafa/miniconda3/envs/torch/lib/python3.9/site-packages (from pandasai) (2.31.0)\n",
      "Requirement already satisfied: scipy<2.0.0,>=1.9.0 in /Users/ahmedmostafa/miniconda3/envs/torch/lib/python3.9/site-packages (from pandasai) (1.13.1)\n",
      "Requirement already satisfied: sqlalchemy<3,>=1.4 in /Users/ahmedmostafa/miniconda3/envs/torch/lib/python3.9/site-packages (from pandasai) (2.0.30)\n",
      "Requirement already satisfied: sqlglot<26.0.0,>=25.0.3 in /Users/ahmedmostafa/miniconda3/envs/torch/lib/python3.9/site-packages (from sqlglot[rs]<26.0.0,>=25.0.3->pandasai) (25.5.1)\n",
      "Requirement already satisfied: python-dateutil>=2.8.1 in /Users/ahmedmostafa/miniconda3/envs/torch/lib/python3.9/site-packages (from pandas==1.5.3->pandasai) (2.8.2)\n",
      "Requirement already satisfied: pytz>=2020.1 in /Users/ahmedmostafa/miniconda3/envs/torch/lib/python3.9/site-packages (from pandas==1.5.3->pandasai) (2023.3.post1)\n",
      "Requirement already satisfied: numpy>=1.20.3 in /Users/ahmedmostafa/miniconda3/envs/torch/lib/python3.9/site-packages (from pandas==1.5.3->pandasai) (1.26.4)\n",
      "Requirement already satisfied: MarkupSafe>=2.0 in /Users/ahmedmostafa/miniconda3/envs/torch/lib/python3.9/site-packages (from jinja2<4.0.0,>=3.1.3->pandasai) (2.1.3)\n",
      "Requirement already satisfied: contourpy>=1.0.1 in /Users/ahmedmostafa/miniconda3/envs/torch/lib/python3.9/site-packages (from matplotlib<4.0.0,>=3.7.1->pandasai) (1.1.1)\n",
      "Requirement already satisfied: cycler>=0.10 in /Users/ahmedmostafa/miniconda3/envs/torch/lib/python3.9/site-packages (from matplotlib<4.0.0,>=3.7.1->pandasai) (0.12.1)\n",
      "Requirement already satisfied: fonttools>=4.22.0 in /Users/ahmedmostafa/miniconda3/envs/torch/lib/python3.9/site-packages (from matplotlib<4.0.0,>=3.7.1->pandasai) (4.44.0)\n",
      "Requirement already satisfied: kiwisolver>=1.3.1 in /Users/ahmedmostafa/miniconda3/envs/torch/lib/python3.9/site-packages (from matplotlib<4.0.0,>=3.7.1->pandasai) (1.4.5)\n",
      "Requirement already satisfied: packaging>=20.0 in /Users/ahmedmostafa/miniconda3/envs/torch/lib/python3.9/site-packages (from matplotlib<4.0.0,>=3.7.1->pandasai) (23.2)\n",
      "Requirement already satisfied: pyparsing>=2.3.1 in /Users/ahmedmostafa/miniconda3/envs/torch/lib/python3.9/site-packages (from matplotlib<4.0.0,>=3.7.1->pandasai) (3.1.1)\n",
      "Requirement already satisfied: importlib-resources>=3.2.0 in /Users/ahmedmostafa/miniconda3/envs/torch/lib/python3.9/site-packages (from matplotlib<4.0.0,>=3.7.1->pandasai) (6.1.0)\n",
      "Requirement already satisfied: tqdm in /Users/ahmedmostafa/miniconda3/envs/torch/lib/python3.9/site-packages (from openai<2->pandasai) (4.66.1)\n",
      "Requirement already satisfied: aiohttp in /Users/ahmedmostafa/miniconda3/envs/torch/lib/python3.9/site-packages (from openai<2->pandasai) (3.9.5)\n",
      "Requirement already satisfied: annotated-types>=0.4.0 in /Users/ahmedmostafa/miniconda3/envs/torch/lib/python3.9/site-packages (from pydantic<3,>=1->pandasai) (0.6.0)\n",
      "Requirement already satisfied: pydantic-core==2.18.4 in /Users/ahmedmostafa/miniconda3/envs/torch/lib/python3.9/site-packages (from pydantic<3,>=1->pandasai) (2.18.4)\n",
      "Requirement already satisfied: typing-extensions>=4.6.1 in /Users/ahmedmostafa/miniconda3/envs/torch/lib/python3.9/site-packages (from pydantic<3,>=1->pandasai) (4.12.2)\n",
      "Requirement already satisfied: charset-normalizer<4,>=2 in /Users/ahmedmostafa/miniconda3/envs/torch/lib/python3.9/site-packages (from requests<3.0.0,>=2.31.0->pandasai) (3.3.2)\n",
      "Requirement already satisfied: idna<4,>=2.5 in /Users/ahmedmostafa/miniconda3/envs/torch/lib/python3.9/site-packages (from requests<3.0.0,>=2.31.0->pandasai) (3.7)\n",
      "Requirement already satisfied: urllib3<3,>=1.21.1 in /Users/ahmedmostafa/miniconda3/envs/torch/lib/python3.9/site-packages (from requests<3.0.0,>=2.31.0->pandasai) (1.26.18)\n",
      "Requirement already satisfied: certifi>=2017.4.17 in /Users/ahmedmostafa/miniconda3/envs/torch/lib/python3.9/site-packages (from requests<3.0.0,>=2.31.0->pandasai) (2024.7.4)\n",
      "Requirement already satisfied: sqlglotrs==0.2.8 in /Users/ahmedmostafa/miniconda3/envs/torch/lib/python3.9/site-packages (from sqlglot[rs]<26.0.0,>=25.0.3->pandasai) (0.2.8)\n",
      "Requirement already satisfied: zipp>=3.1.0 in /Users/ahmedmostafa/miniconda3/envs/torch/lib/python3.9/site-packages (from importlib-resources>=3.2.0->matplotlib<4.0.0,>=3.7.1->pandasai) (3.17.0)\n",
      "Requirement already satisfied: six>=1.5 in /Users/ahmedmostafa/miniconda3/envs/torch/lib/python3.9/site-packages (from python-dateutil>=2.8.1->pandas==1.5.3->pandasai) (1.16.0)\n",
      "Requirement already satisfied: aiosignal>=1.1.2 in /Users/ahmedmostafa/miniconda3/envs/torch/lib/python3.9/site-packages (from aiohttp->openai<2->pandasai) (1.3.1)\n",
      "Requirement already satisfied: attrs>=17.3.0 in /Users/ahmedmostafa/miniconda3/envs/torch/lib/python3.9/site-packages (from aiohttp->openai<2->pandasai) (23.1.0)\n",
      "Requirement already satisfied: frozenlist>=1.1.1 in /Users/ahmedmostafa/miniconda3/envs/torch/lib/python3.9/site-packages (from aiohttp->openai<2->pandasai) (1.4.1)\n",
      "Requirement already satisfied: multidict<7.0,>=4.5 in /Users/ahmedmostafa/miniconda3/envs/torch/lib/python3.9/site-packages (from aiohttp->openai<2->pandasai) (6.0.5)\n",
      "Requirement already satisfied: yarl<2.0,>=1.0 in /Users/ahmedmostafa/miniconda3/envs/torch/lib/python3.9/site-packages (from aiohttp->openai<2->pandasai) (1.9.4)\n",
      "Requirement already satisfied: async-timeout<5.0,>=4.0 in /Users/ahmedmostafa/miniconda3/envs/torch/lib/python3.9/site-packages (from aiohttp->openai<2->pandasai) (4.0.3)\n"
     ]
    }
   ],
   "source": [
    "!pip install pandasai"
   ]
  },
  {
   "cell_type": "code",
   "execution_count": 1,
   "id": "53864c5c471d3b00",
   "metadata": {
    "ExecuteTime": {
     "end_time": "2024-08-06T18:32:23.763328Z",
     "start_time": "2024-08-06T18:32:16.099324Z"
    }
   },
   "outputs": [
    {
     "data": {
      "text/plain": [
       "'The minute with the most visitors is 15:12.'"
      ]
     },
     "execution_count": 1,
     "metadata": {},
     "output_type": "execute_result"
    }
   ],
   "source": [
    "from pandasai import SmartDataframe\n",
    "import pandas as pd\n",
    "import os\n",
    "\n",
    "os.environ['PANDASAI_API_KEY'] = \"$2a$10$dBFvLiznNSvJhQ9DG.s6J.NWA3cMS4jMJDN3DXviXTmUQYVn5hQHy\"\n",
    "df = pd.read_excel(\"Intern NLP Dataset.xlsx\")\n",
    "sdf = SmartDataframe(df)\n",
    "sdf.chat(\"Which minute did I get the most visitors. should output the clock in datetime format ?\")"
   ]
  },
  {
   "cell_type": "code",
   "execution_count": 2,
   "id": "bd8580b2cefe8071",
   "metadata": {
    "ExecuteTime": {
     "end_time": "2024-08-06T18:32:34.142519Z",
     "start_time": "2024-08-06T18:32:29.993072Z"
    }
   },
   "outputs": [
    {
     "data": {
      "text/plain": [
       "'The most common visitor is Female.'"
      ]
     },
     "execution_count": 2,
     "metadata": {},
     "output_type": "execute_result"
    }
   ],
   "source": [
    "sdf.chat(\"Who is my most common visitor, Male or Female?\")"
   ]
  },
  {
   "cell_type": "code",
   "execution_count": 3,
   "id": "f7956c8465275246",
   "metadata": {
    "ExecuteTime": {
     "end_time": "2024-08-06T18:32:42.839299Z",
     "start_time": "2024-08-06T18:32:37.127169Z"
    }
   },
   "outputs": [
    {
     "data": {
      "text/plain": [
       "32"
      ]
     },
     "execution_count": 3,
     "metadata": {},
     "output_type": "execute_result"
    }
   ],
   "source": [
    "sdf.chat(\"How many hijab visited me ?\")"
   ]
  },
  {
   "cell_type": "code",
   "execution_count": 4,
   "id": "e455c36129a82744",
   "metadata": {
    "ExecuteTime": {
     "end_time": "2024-08-06T18:32:48.643241Z",
     "start_time": "2024-08-06T18:32:42.841617Z"
    }
   },
   "outputs": [
    {
     "data": {
      "text/plain": [
       "52"
      ]
     },
     "execution_count": 4,
     "metadata": {},
     "output_type": "execute_result"
    }
   ],
   "source": [
    "sdf.chat(\"How many females visited me?\")"
   ]
  },
  {
   "cell_type": "code",
   "execution_count": 7,
   "id": "1e2c9b59",
   "metadata": {},
   "outputs": [
    {
     "data": {
      "text/plain": [
       "'The minute with the most visits is 15:12'"
      ]
     },
     "execution_count": 7,
     "metadata": {},
     "output_type": "execute_result"
    }
   ],
   "source": [
    "sdf.chat(\"What time did I get most visits ? Intent: Most Visitors in a Minute\")"
   ]
  },
  {
   "cell_type": "code",
   "execution_count": 10,
   "id": "3cf431110fe33047",
   "metadata": {
    "ExecuteTime": {
     "end_time": "2024-08-06T18:26:04.739032Z",
     "start_time": "2024-08-06T18:25:59.558110Z"
    }
   },
   "outputs": [
    {
     "data": {
      "text/plain": [
       "'The number of female visitors at the peak time (15:12:00) is 5.'"
      ]
     },
     "execution_count": 10,
     "metadata": {},
     "output_type": "execute_result"
    }
   ],
   "source": [
    "sdf.chat(\"How many Famele visited me in my peak time, time format ?\")"
   ]
  },
  {
   "cell_type": "code",
   "execution_count": null,
   "id": "f29ed8dc",
   "metadata": {},
   "outputs": [],
   "source": []
  },
  {
   "cell_type": "code",
   "execution_count": 6,
   "id": "fd795bc508d871bd",
   "metadata": {
    "ExecuteTime": {
     "end_time": "2024-08-06T18:32:48.646400Z",
     "start_time": "2024-08-06T18:32:48.643839Z"
    }
   },
   "outputs": [
    {
     "name": "stdout",
     "output_type": "stream",
     "text": [
      "num_females = dfs[0]['Is Female'].sum()\n",
      "result = {'type': 'number', 'value': num_females}\n"
     ]
    }
   ],
   "source": [
    "print(sdf.last_code_generated)"
   ]
  },
  {
   "cell_type": "code",
   "execution_count": null,
   "id": "6634d68c47fbe998",
   "metadata": {},
   "outputs": [],
   "source": [
    "# And change the output format. \n",
    "# For example who is my most common visitor should output a gender or class name.  \n",
    "# Second the time questions should output the clock in datetime format not a number . \n",
    "# Your model is fine. The intents are too limited and outputs"
   ]
  },
  {
   "cell_type": "code",
   "execution_count": null,
   "id": "49235d422c9b9021",
   "metadata": {},
   "outputs": [],
   "source": [
    "from pandasai import SmartDatalake"
   ]
  }
 ],
 "metadata": {
  "kernelspec": {
   "display_name": "Python 3.9 (torch)",
   "language": "python",
   "name": "pytorch"
  },
  "language_info": {
   "codemirror_mode": {
    "name": "ipython",
    "version": 3
   },
   "file_extension": ".py",
   "mimetype": "text/x-python",
   "name": "python",
   "nbconvert_exporter": "python",
   "pygments_lexer": "ipython3",
   "version": "3.9.18"
  }
 },
 "nbformat": 4,
 "nbformat_minor": 5
}
