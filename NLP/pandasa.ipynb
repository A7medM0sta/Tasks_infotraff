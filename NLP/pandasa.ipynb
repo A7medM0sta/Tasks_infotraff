{
 "cells": [
  {
   "cell_type": "code",
   "id": "initial_id",
   "metadata": {
    "collapsed": true,
    "ExecuteTime": {
     "end_time": "2024-08-06T18:12:23.871136Z",
     "start_time": "2024-08-06T18:11:49.979187Z"
    }
   },
   "source": "!pip install pandasai",
   "outputs": [
    {
     "name": "stdout",
     "output_type": "stream",
     "text": [
      "Collecting pandasai\r\n",
      "  Using cached pandasai-2.2.14-py3-none-any.whl.metadata (10 kB)\r\n",
      "Requirement already satisfied: astor<0.9.0,>=0.8.1 in /Users/ahmedmostafa/miniconda3/envs/torch/lib/python3.9/site-packages (from pandasai) (0.8.1)\r\n",
      "Requirement already satisfied: duckdb<2.0.0,>=1.0.0 in /Users/ahmedmostafa/miniconda3/envs/torch/lib/python3.9/site-packages (from pandasai) (1.0.0)\r\n",
      "Collecting faker<20.0.0,>=19.12.0 (from pandasai)\r\n",
      "  Using cached Faker-19.13.0-py3-none-any.whl.metadata (15 kB)\r\n",
      "Collecting jinja2<4.0.0,>=3.1.3 (from pandasai)\r\n",
      "  Using cached jinja2-3.1.4-py3-none-any.whl.metadata (2.6 kB)\r\n",
      "Requirement already satisfied: matplotlib<4.0.0,>=3.7.1 in /Users/ahmedmostafa/miniconda3/envs/torch/lib/python3.9/site-packages (from pandasai) (3.9.1)\r\n",
      "Requirement already satisfied: openai<2 in /Users/ahmedmostafa/miniconda3/envs/torch/lib/python3.9/site-packages (from pandasai) (0.27.4)\r\n",
      "Collecting pandas==1.5.3 (from pandasai)\r\n",
      "  Using cached pandas-1.5.3-cp39-cp39-macosx_11_0_arm64.whl.metadata (11 kB)\r\n",
      "Collecting pillow<11.0.0,>=10.1.0 (from pandasai)\r\n",
      "  Using cached pillow-10.4.0-cp39-cp39-macosx_11_0_arm64.whl.metadata (9.2 kB)\r\n",
      "Requirement already satisfied: pydantic<3,>=1 in /Users/ahmedmostafa/miniconda3/envs/torch/lib/python3.9/site-packages (from pandasai) (2.7.4)\r\n",
      "Requirement already satisfied: python-dotenv<2.0.0,>=1.0.0 in /Users/ahmedmostafa/miniconda3/envs/torch/lib/python3.9/site-packages (from pandasai) (1.0.0)\r\n",
      "Requirement already satisfied: requests<3.0.0,>=2.31.0 in /Users/ahmedmostafa/miniconda3/envs/torch/lib/python3.9/site-packages (from pandasai) (2.31.0)\r\n",
      "Requirement already satisfied: scipy<2.0.0,>=1.9.0 in /Users/ahmedmostafa/miniconda3/envs/torch/lib/python3.9/site-packages (from pandasai) (1.13.1)\r\n",
      "Requirement already satisfied: sqlalchemy<3,>=1.4 in /Users/ahmedmostafa/miniconda3/envs/torch/lib/python3.9/site-packages (from pandasai) (2.0.30)\r\n",
      "Requirement already satisfied: sqlglot<26.0.0,>=25.0.3 in /Users/ahmedmostafa/miniconda3/envs/torch/lib/python3.9/site-packages (from sqlglot[rs]<26.0.0,>=25.0.3->pandasai) (25.5.1)\r\n",
      "Requirement already satisfied: python-dateutil>=2.8.1 in /Users/ahmedmostafa/miniconda3/envs/torch/lib/python3.9/site-packages (from pandas==1.5.3->pandasai) (2.8.2)\r\n",
      "Requirement already satisfied: pytz>=2020.1 in /Users/ahmedmostafa/miniconda3/envs/torch/lib/python3.9/site-packages (from pandas==1.5.3->pandasai) (2023.3.post1)\r\n",
      "Requirement already satisfied: numpy>=1.20.3 in /Users/ahmedmostafa/miniconda3/envs/torch/lib/python3.9/site-packages (from pandas==1.5.3->pandasai) (1.26.4)\r\n",
      "Requirement already satisfied: MarkupSafe>=2.0 in /Users/ahmedmostafa/miniconda3/envs/torch/lib/python3.9/site-packages (from jinja2<4.0.0,>=3.1.3->pandasai) (2.1.3)\r\n",
      "Requirement already satisfied: contourpy>=1.0.1 in /Users/ahmedmostafa/miniconda3/envs/torch/lib/python3.9/site-packages (from matplotlib<4.0.0,>=3.7.1->pandasai) (1.1.1)\r\n",
      "Requirement already satisfied: cycler>=0.10 in /Users/ahmedmostafa/miniconda3/envs/torch/lib/python3.9/site-packages (from matplotlib<4.0.0,>=3.7.1->pandasai) (0.12.1)\r\n",
      "Requirement already satisfied: fonttools>=4.22.0 in /Users/ahmedmostafa/miniconda3/envs/torch/lib/python3.9/site-packages (from matplotlib<4.0.0,>=3.7.1->pandasai) (4.44.0)\r\n",
      "Requirement already satisfied: kiwisolver>=1.3.1 in /Users/ahmedmostafa/miniconda3/envs/torch/lib/python3.9/site-packages (from matplotlib<4.0.0,>=3.7.1->pandasai) (1.4.5)\r\n",
      "Requirement already satisfied: packaging>=20.0 in /Users/ahmedmostafa/miniconda3/envs/torch/lib/python3.9/site-packages (from matplotlib<4.0.0,>=3.7.1->pandasai) (23.2)\r\n",
      "Requirement already satisfied: pyparsing>=2.3.1 in /Users/ahmedmostafa/miniconda3/envs/torch/lib/python3.9/site-packages (from matplotlib<4.0.0,>=3.7.1->pandasai) (3.1.1)\r\n",
      "Requirement already satisfied: importlib-resources>=3.2.0 in /Users/ahmedmostafa/miniconda3/envs/torch/lib/python3.9/site-packages (from matplotlib<4.0.0,>=3.7.1->pandasai) (6.1.0)\r\n",
      "Requirement already satisfied: tqdm in /Users/ahmedmostafa/miniconda3/envs/torch/lib/python3.9/site-packages (from openai<2->pandasai) (4.66.1)\r\n",
      "Requirement already satisfied: aiohttp in /Users/ahmedmostafa/miniconda3/envs/torch/lib/python3.9/site-packages (from openai<2->pandasai) (3.9.5)\r\n",
      "Requirement already satisfied: annotated-types>=0.4.0 in /Users/ahmedmostafa/miniconda3/envs/torch/lib/python3.9/site-packages (from pydantic<3,>=1->pandasai) (0.6.0)\r\n",
      "Requirement already satisfied: pydantic-core==2.18.4 in /Users/ahmedmostafa/miniconda3/envs/torch/lib/python3.9/site-packages (from pydantic<3,>=1->pandasai) (2.18.4)\r\n",
      "Requirement already satisfied: typing-extensions>=4.6.1 in /Users/ahmedmostafa/miniconda3/envs/torch/lib/python3.9/site-packages (from pydantic<3,>=1->pandasai) (4.12.2)\r\n",
      "Requirement already satisfied: charset-normalizer<4,>=2 in /Users/ahmedmostafa/miniconda3/envs/torch/lib/python3.9/site-packages (from requests<3.0.0,>=2.31.0->pandasai) (3.3.2)\r\n",
      "Requirement already satisfied: idna<4,>=2.5 in /Users/ahmedmostafa/miniconda3/envs/torch/lib/python3.9/site-packages (from requests<3.0.0,>=2.31.0->pandasai) (3.7)\r\n",
      "Requirement already satisfied: urllib3<3,>=1.21.1 in /Users/ahmedmostafa/miniconda3/envs/torch/lib/python3.9/site-packages (from requests<3.0.0,>=2.31.0->pandasai) (1.26.18)\r\n",
      "Requirement already satisfied: certifi>=2017.4.17 in /Users/ahmedmostafa/miniconda3/envs/torch/lib/python3.9/site-packages (from requests<3.0.0,>=2.31.0->pandasai) (2024.7.4)\r\n",
      "Collecting sqlglotrs==0.2.8 (from sqlglot[rs]<26.0.0,>=25.0.3->pandasai)\r\n",
      "  Downloading sqlglotrs-0.2.8-cp39-cp39-macosx_11_0_arm64.whl.metadata (258 bytes)\r\n",
      "Requirement already satisfied: zipp>=3.1.0 in /Users/ahmedmostafa/miniconda3/envs/torch/lib/python3.9/site-packages (from importlib-resources>=3.2.0->matplotlib<4.0.0,>=3.7.1->pandasai) (3.17.0)\r\n",
      "Requirement already satisfied: six>=1.5 in /Users/ahmedmostafa/miniconda3/envs/torch/lib/python3.9/site-packages (from python-dateutil>=2.8.1->pandas==1.5.3->pandasai) (1.16.0)\r\n",
      "Requirement already satisfied: aiosignal>=1.1.2 in /Users/ahmedmostafa/miniconda3/envs/torch/lib/python3.9/site-packages (from aiohttp->openai<2->pandasai) (1.3.1)\r\n",
      "Requirement already satisfied: attrs>=17.3.0 in /Users/ahmedmostafa/miniconda3/envs/torch/lib/python3.9/site-packages (from aiohttp->openai<2->pandasai) (23.1.0)\r\n",
      "Requirement already satisfied: frozenlist>=1.1.1 in /Users/ahmedmostafa/miniconda3/envs/torch/lib/python3.9/site-packages (from aiohttp->openai<2->pandasai) (1.4.1)\r\n",
      "Requirement already satisfied: multidict<7.0,>=4.5 in /Users/ahmedmostafa/miniconda3/envs/torch/lib/python3.9/site-packages (from aiohttp->openai<2->pandasai) (6.0.5)\r\n",
      "Requirement already satisfied: yarl<2.0,>=1.0 in /Users/ahmedmostafa/miniconda3/envs/torch/lib/python3.9/site-packages (from aiohttp->openai<2->pandasai) (1.9.4)\r\n",
      "Requirement already satisfied: async-timeout<5.0,>=4.0 in /Users/ahmedmostafa/miniconda3/envs/torch/lib/python3.9/site-packages (from aiohttp->openai<2->pandasai) (4.0.3)\r\n",
      "Using cached pandasai-2.2.14-py3-none-any.whl (179 kB)\r\n",
      "Downloading pandas-1.5.3-cp39-cp39-macosx_11_0_arm64.whl (11.0 MB)\r\n",
      "\u001B[2K   \u001B[90m━━━━━━━━━━━━━━━━━━━━━━━━━━━━━━━━━━━━━━━━\u001B[0m \u001B[32m11.0/11.0 MB\u001B[0m \u001B[31m3.5 MB/s\u001B[0m eta \u001B[36m0:00:00\u001B[0m00:01\u001B[0m00:01\u001B[0m\r\n",
      "\u001B[?25hUsing cached Faker-19.13.0-py3-none-any.whl (1.7 MB)\r\n",
      "Using cached jinja2-3.1.4-py3-none-any.whl (133 kB)\r\n",
      "Using cached pillow-10.4.0-cp39-cp39-macosx_11_0_arm64.whl (3.4 MB)\r\n",
      "Downloading sqlglotrs-0.2.8-cp39-cp39-macosx_11_0_arm64.whl (290 kB)\r\n",
      "\u001B[2K   \u001B[90m━━━━━━━━━━━━━━━━━━━━━━━━━━━━━━━━━━━━━━━━\u001B[0m \u001B[32m290.4/290.4 kB\u001B[0m \u001B[31m1.1 MB/s\u001B[0m eta \u001B[36m0:00:00\u001B[0ma \u001B[36m0:00:01\u001B[0m\r\n",
      "\u001B[?25hInstalling collected packages: sqlglotrs, pillow, jinja2, pandas, faker, pandasai\r\n",
      "  Attempting uninstall: pillow\r\n",
      "    Found existing installation: Pillow 9.4.0\r\n",
      "    Uninstalling Pillow-9.4.0:\r\n",
      "      Successfully uninstalled Pillow-9.4.0\r\n",
      "  Attempting uninstall: jinja2\r\n",
      "    Found existing installation: Jinja2 3.1.2\r\n",
      "    Uninstalling Jinja2-3.1.2:\r\n",
      "      Successfully uninstalled Jinja2-3.1.2\r\n",
      "  Attempting uninstall: pandas\r\n",
      "    Found existing installation: pandas 2.2.2\r\n",
      "    Uninstalling pandas-2.2.2:\r\n",
      "      Successfully uninstalled pandas-2.2.2\r\n",
      "\u001B[31mERROR: pip's dependency resolver does not currently take into account all the packages that are installed. This behaviour is the source of the following dependency conflicts.\r\n",
      "autogluon-common 1.1.0 requires pandas<2.3.0,>=2.0.0, but you have pandas 1.5.3 which is incompatible.\r\n",
      "autogluon-core 1.1.0 requires pandas<2.3.0,>=2.0.0, but you have pandas 1.5.3 which is incompatible.\r\n",
      "autogluon-core 1.1.0 requires scipy<1.13,>=1.5.4, but you have scipy 1.13.1 which is incompatible.\r\n",
      "autogluon-features 1.1.0 requires pandas<2.3.0,>=2.0.0, but you have pandas 1.5.3 which is incompatible.\r\n",
      "autogluon-tabular 1.1.0 requires pandas<2.3.0,>=2.0.0, but you have pandas 1.5.3 which is incompatible.\r\n",
      "autogluon-tabular 1.1.0 requires scipy<1.13,>=1.5.4, but you have scipy 1.13.1 which is incompatible.\r\n",
      "super-gradients 3.7.1 requires numpy<=1.23, but you have numpy 1.26.4 which is incompatible.\r\n",
      "visions 0.7.6 requires pandas>=2.0.0, but you have pandas 1.5.3 which is incompatible.\u001B[0m\u001B[31m\r\n",
      "\u001B[0mSuccessfully installed faker-19.13.0 jinja2-3.1.4 pandas-1.5.3 pandasai-2.2.14 pillow-10.4.0 sqlglotrs-0.2.8\r\n"
     ]
    }
   ],
   "execution_count": 1
  },
  {
   "metadata": {
    "ExecuteTime": {
     "end_time": "2024-08-06T18:32:23.763328Z",
     "start_time": "2024-08-06T18:32:16.099324Z"
    }
   },
   "cell_type": "code",
   "source": [
    "from pandasai import SmartDataframe\n",
    "import pandas as pd\n",
    "import os\n",
    "\n",
    "os.environ['PANDASAI_API_KEY'] = \"$2a$10$dBFvLiznNSvJhQ9DG.s6J.NWA3cMS4jMJDN3DXviXTmUQYVn5hQHy\"\n",
    "df = pd.read_excel(\"Intern NLP Dataset.xlsx\")\n",
    "sdf = SmartDataframe(df)\n",
    "sdf.chat(\"Which minute did I get the most visitors. should output the clock in datetime format ?\")"
   ],
   "id": "53864c5c471d3b00",
   "outputs": [
    {
     "data": {
      "text/plain": [
       "'The minute with the most visitors is 15:12.'"
      ]
     },
     "execution_count": 2,
     "metadata": {},
     "output_type": "execute_result"
    }
   ],
   "execution_count": 2
  },
  {
   "metadata": {
    "ExecuteTime": {
     "end_time": "2024-08-06T18:32:34.142519Z",
     "start_time": "2024-08-06T18:32:29.993072Z"
    }
   },
   "cell_type": "code",
   "source": "sdf.chat(\"Who is my most common visitor, Male or Female?\")",
   "id": "bd8580b2cefe8071",
   "outputs": [
    {
     "data": {
      "text/plain": [
       "'The most common visitor is Female.'"
      ]
     },
     "execution_count": 3,
     "metadata": {},
     "output_type": "execute_result"
    }
   ],
   "execution_count": 3
  },
  {
   "metadata": {
    "ExecuteTime": {
     "end_time": "2024-08-06T18:32:42.839299Z",
     "start_time": "2024-08-06T18:32:37.127169Z"
    }
   },
   "cell_type": "code",
   "source": "sdf.chat(\"How many hijab visited me ?\")",
   "id": "f7956c8465275246",
   "outputs": [
    {
     "data": {
      "text/plain": [
       "32"
      ]
     },
     "execution_count": 4,
     "metadata": {},
     "output_type": "execute_result"
    }
   ],
   "execution_count": 4
  },
  {
   "metadata": {
    "ExecuteTime": {
     "end_time": "2024-08-06T18:32:48.643241Z",
     "start_time": "2024-08-06T18:32:42.841617Z"
    }
   },
   "cell_type": "code",
   "source": "sdf.chat(\"How many females visited me?\")",
   "id": "e455c36129a82744",
   "outputs": [
    {
     "data": {
      "text/plain": [
       "52"
      ]
     },
     "execution_count": 5,
     "metadata": {},
     "output_type": "execute_result"
    }
   ],
   "execution_count": 5
  },
  {
   "metadata": {
    "ExecuteTime": {
     "end_time": "2024-08-06T18:26:04.739032Z",
     "start_time": "2024-08-06T18:25:59.558110Z"
    }
   },
   "cell_type": "code",
   "source": "sdf.chat(\"How many woman visited me in my peak time, time format ?\")",
   "id": "3cf431110fe33047",
   "outputs": [
    {
     "data": {
      "text/plain": [
       "'1 woman visited you at 2024-07-17 15:12:44.030000'"
      ]
     },
     "execution_count": 12,
     "metadata": {},
     "output_type": "execute_result"
    }
   ],
   "execution_count": 12
  },
  {
   "metadata": {
    "ExecuteTime": {
     "end_time": "2024-08-06T18:32:48.646400Z",
     "start_time": "2024-08-06T18:32:48.643839Z"
    }
   },
   "cell_type": "code",
   "source": "print(sdf.last_code_generated)",
   "id": "fd795bc508d871bd",
   "outputs": [
    {
     "name": "stdout",
     "output_type": "stream",
     "text": [
      "num_females = dfs[0]['Is Female'].sum()\n",
      "result = {'type': 'number', 'value': num_females}\n"
     ]
    }
   ],
   "execution_count": 6
  },
  {
   "metadata": {},
   "cell_type": "code",
   "outputs": [],
   "execution_count": null,
   "source": [
    "# And change the output format. \n",
    "# For example who is my most common visitor should output a gender or class name.  \n",
    "# Second the time questions should output the clock in datetime format not a number . \n",
    "# Your model is fine. The intents are too limited and outputs"
   ],
   "id": "6634d68c47fbe998"
  },
  {
   "metadata": {},
   "cell_type": "code",
   "outputs": [],
   "execution_count": null,
   "source": "from pandasai import SmartDatalake",
   "id": "49235d422c9b9021"
  }
 ],
 "metadata": {
  "kernelspec": {
   "display_name": "Python 3",
   "language": "python",
   "name": "python3"
  },
  "language_info": {
   "codemirror_mode": {
    "name": "ipython",
    "version": 2
   },
   "file_extension": ".py",
   "mimetype": "text/x-python",
   "name": "python",
   "nbconvert_exporter": "python",
   "pygments_lexer": "ipython2",
   "version": "2.7.6"
  }
 },
 "nbformat": 4,
 "nbformat_minor": 5
}
