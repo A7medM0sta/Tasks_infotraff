{
 "cells": [
  {
   "cell_type": "code",
   "execution_count": 11,
   "id": "initial_id",
   "metadata": {
    "ExecuteTime": {
     "end_time": "2024-08-06T18:12:23.871136Z",
     "start_time": "2024-08-06T18:11:49.979187Z"
    },
    "collapsed": true
   },
   "outputs": [],
   "source": [
    "# !pip install pandasai"
   ]
  },
  {
   "cell_type": "code",
   "execution_count": 1,
   "id": "53864c5c471d3b00",
   "metadata": {
    "ExecuteTime": {
     "end_time": "2024-08-06T18:32:23.763328Z",
     "start_time": "2024-08-06T18:32:16.099324Z"
    }
   },
   "outputs": [
    {
     "data": {
      "text/plain": [
       "'The minute with the most visitors is 15:12.'"
      ]
     },
     "execution_count": 1,
     "metadata": {},
     "output_type": "execute_result"
    }
   ],
   "source": [
    "from pandasai import SmartDataframe\n",
    "import pandas as pd\n",
    "import os\n",
    "\n",
    "os.environ['PANDASAI_API_KEY'] = \"$2a$10$dBFvLiznNSvJhQ9DG.s6J.NWA3cMS4jMJDN3DXviXTmUQYVn5hQHy\"\n",
    "df = pd.read_excel(\"Intern NLP Dataset.xlsx\")\n",
    "sdf = SmartDataframe(df)\n",
    "sdf.chat(\"Which minute did I get the most visitors. should output the clock in datetime format ?\")"
   ]
  },
  {
   "cell_type": "code",
   "execution_count": 2,
   "id": "bd8580b2cefe8071",
   "metadata": {
    "ExecuteTime": {
     "end_time": "2024-08-06T18:32:34.142519Z",
     "start_time": "2024-08-06T18:32:29.993072Z"
    }
   },
   "outputs": [
    {
     "data": {
      "text/plain": [
       "'The most common visitor is Female.'"
      ]
     },
     "execution_count": 2,
     "metadata": {},
     "output_type": "execute_result"
    }
   ],
   "source": [
    "sdf.chat(\"Who is my most common visitor, Male or Female?\")"
   ]
  },
  {
   "cell_type": "code",
   "execution_count": 3,
   "id": "f7956c8465275246",
   "metadata": {
    "ExecuteTime": {
     "end_time": "2024-08-06T18:32:42.839299Z",
     "start_time": "2024-08-06T18:32:37.127169Z"
    }
   },
   "outputs": [
    {
     "data": {
      "text/plain": [
       "32"
      ]
     },
     "execution_count": 3,
     "metadata": {},
     "output_type": "execute_result"
    }
   ],
   "source": [
    "sdf.chat(\"How many hijab visited me ?\")"
   ]
  },
  {
   "cell_type": "code",
   "execution_count": 4,
   "id": "e455c36129a82744",
   "metadata": {
    "ExecuteTime": {
     "end_time": "2024-08-06T18:32:48.643241Z",
     "start_time": "2024-08-06T18:32:42.841617Z"
    }
   },
   "outputs": [
    {
     "data": {
      "text/plain": [
       "52"
      ]
     },
     "execution_count": 4,
     "metadata": {},
     "output_type": "execute_result"
    }
   ],
   "source": [
    "sdf.chat(\"How many females visited me?\")"
   ]
  },
  {
   "cell_type": "code",
   "execution_count": 7,
   "id": "1e2c9b59",
   "metadata": {},
   "outputs": [
    {
     "data": {
      "text/plain": [
       "'The minute with the most visits is 15:12'"
      ]
     },
     "execution_count": 7,
     "metadata": {},
     "output_type": "execute_result"
    }
   ],
   "source": [
    "sdf.chat(\"What time did I get most visits ? Intent: Most Visitors in a Minute\")"
   ]
  },
  {
   "cell_type": "code",
   "execution_count": 10,
   "id": "3cf431110fe33047",
   "metadata": {
    "ExecuteTime": {
     "end_time": "2024-08-06T18:26:04.739032Z",
     "start_time": "2024-08-06T18:25:59.558110Z"
    }
   },
   "outputs": [
    {
     "data": {
      "text/plain": [
       "'The number of female visitors at the peak time (15:12:00) is 5.'"
      ]
     },
     "execution_count": 10,
     "metadata": {},
     "output_type": "execute_result"
    }
   ],
   "source": [
    "sdf.chat(\"How many Famele visited me in my peak time, time format ?\")"
   ]
  },
  {
   "cell_type": "code",
   "execution_count": null,
   "id": "f29ed8dc",
   "metadata": {},
   "outputs": [],
   "source": []
  },
  {
   "cell_type": "code",
   "execution_count": 6,
   "id": "fd795bc508d871bd",
   "metadata": {
    "ExecuteTime": {
     "end_time": "2024-08-06T18:32:48.646400Z",
     "start_time": "2024-08-06T18:32:48.643839Z"
    }
   },
   "outputs": [
    {
     "name": "stdout",
     "output_type": "stream",
     "text": [
      "num_females = dfs[0]['Is Female'].sum()\n",
      "result = {'type': 'number', 'value': num_females}\n"
     ]
    }
   ],
   "source": [
    "print(sdf.last_code_generated)"
   ]
  },
  {
   "cell_type": "code",
   "execution_count": null,
   "id": "6634d68c47fbe998",
   "metadata": {},
   "outputs": [],
   "source": [
    "# And change the output format. \n",
    "# For example who is my most common visitor should output a gender or class name.  \n",
    "# Second the time questions should output the clock in datetime format not a number . \n",
    "# Your model is fine. The intents are too limited and outputs"
   ]
  },
  {
   "cell_type": "code",
   "execution_count": null,
   "id": "49235d422c9b9021",
   "metadata": {},
   "outputs": [],
   "source": [
    "# Please enter your query in natural language:\n",
    "# Who is my most common visitor ?\n",
    "# Intent: Most Common Visitor Type\n",
    "# The most common visitor type is 'Is Female' with 52 occurrences.\n",
    "\n",
    "# Please enter your query in natural language:\n",
    "# What time did I get most visits ?\n",
    "# Intent: Most Visitors in a Minute\n",
    "# The minute with the most visitors is 2024-07-17 15:12:00 with 5 visitors.\n",
    "\n",
    "# Please enter your query in natural language:\n",
    "# How many hijab visited me ?\n",
    "# Intent: Visitor Count with Single Attribute\n",
    "# The number of the specific visitors is 32.\n",
    "\n",
    "# Please enter your query in natural language:\n",
    "# How many females visited me ?\n",
    "# Intent:Visitor Count with Single Attribute\n",
    "# The number of the specific visitors is 52.\n",
    "\n",
    "# Please enter your query in natural language:\n",
    "# How many woman visited me in my peak time ?\n",
    "# Intent: Most Visitors in a Minute\n",
    "# The minute with the most visitors is 2024-07-17 15:12:00 with 5 visitors.\n",
    "\n",
    "# Please enter your query in natural language:\n",
    "# Break Most Visitors in a Minute\n",
    "# The minute with the most visitors is 2024-07-17 15:12:00 with 5 visitors."
   ]
  }
 ],
 "metadata": {
  "kernelspec": {
   "display_name": "Python 3.9 (torch)",
   "language": "python",
   "name": "pytorch"
  },
  "language_info": {
   "codemirror_mode": {
    "name": "ipython",
    "version": 3
   },
   "file_extension": ".py",
   "mimetype": "text/x-python",
   "name": "python",
   "nbconvert_exporter": "python",
   "pygments_lexer": "ipython3",
   "version": "3.9.18"
  }
 },
 "nbformat": 4,
 "nbformat_minor": 5
}
